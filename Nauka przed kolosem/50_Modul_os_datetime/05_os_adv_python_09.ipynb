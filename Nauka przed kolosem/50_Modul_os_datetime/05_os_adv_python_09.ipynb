{
 "cells": [
  {
   "cell_type": "markdown",
   "id": "b680c437-871a-41b1-83d7-07204abcb606",
   "metadata": {},
   "source": [
    "# Lab 9. Moduł `os`"
   ]
  },
  {
   "cell_type": "markdown",
   "id": "cac76fbf-3806-42d9-90c3-b204502ff0f8",
   "metadata": {},
   "source": [
    "**Dokumentacja:**\n",
    "* https://docs.python.org/3/library/os.html#module-os\n",
    "\n",
    "Moduł `os` dostarcza narzędzi specyficznych dla systemu operacyjnego, na którym bieżący interpreter został uruchomiony. Część z nich jest uniwersalna pomiędzy platformami. Poniżej przedstawione zostaną przykłady wybranych elementów tego modułu."
   ]
  },
  {
   "cell_type": "code",
   "execution_count": 94,
   "id": "ea867c4f-ee76-4116-ba79-a09cca426972",
   "metadata": {},
   "outputs": [],
   "source": [
    "import os"
   ]
  },
  {
   "cell_type": "markdown",
   "id": "6397e292-112e-4d33-a115-69baa34b3fac",
   "metadata": {},
   "source": [
    "**`os.environ`**"
   ]
  },
  {
   "cell_type": "markdown",
   "id": "60b8fd77-7d66-4333-8903-936411df15b9",
   "metadata": {},
   "source": [
    "Pozwala na wypisanie, ale i ustawienie zmiennych środowiskowych. Wartość zmiennych odczytywana jest w momencie inicjalizacji interpretera Pythona, ale w zależności od sposobu jego uruchamiania (IDE, Jupyter) widoczność zmiennych może być nieco inna. Zmienne zdefiniowane w systemie po inicjalizacji Pythona (ale biorąc również pod uwagę w/w narzędzia) nie będą widoczne. Zdefiniowanie tych zmiennych ma charakter tymczasowy, tylko dla bieżącej sesji.\n",
    "\n",
    "Zobacz również `os.getenv()` oraz `os.putenv()`."
   ]
  },
  {
   "cell_type": "code",
   "execution_count": 96,
   "id": "74ba3a66-df11-4abd-8be7-ecff7bddc4c5",
   "metadata": {},
   "outputs": [
    {
     "data": {
      "text/plain": [
       "'C:\\\\Program Files\\\\OpenLogic\\\\jdk-17.0.15.6-hotspot'"
      ]
     },
     "execution_count": 96,
     "metadata": {},
     "output_type": "execute_result"
    }
   ],
   "source": [
    "os.environ['JAVA_HOME']"
   ]
  },
  {
   "cell_type": "code",
   "execution_count": 97,
   "id": "94c77c37-6092-4053-a7c7-1d2825e29d6b",
   "metadata": {},
   "outputs": [
    {
     "data": {
      "text/plain": [
       "'Krzysztof'"
      ]
     },
     "execution_count": 97,
     "metadata": {},
     "output_type": "execute_result"
    }
   ],
   "source": [
    "os.environ['username']"
   ]
  },
  {
   "cell_type": "code",
   "execution_count": 101,
   "id": "babec832-c56b-403e-bbc1-8e8dd02c49da",
   "metadata": {},
   "outputs": [
    {
     "data": {
      "text/plain": [
       "['C:\\\\Users\\\\Krzysztof\\\\AppData\\\\Local\\\\Programs\\\\Python\\\\Python312\\\\Scripts\\\\',\n",
       " 'C:\\\\Users\\\\Krzysztof\\\\AppData\\\\Local\\\\Programs\\\\Python\\\\Python312\\\\',\n",
       " 'C:\\\\Users\\\\Krzysztof\\\\AppData\\\\Local\\\\Programs\\\\Python\\\\Python313\\\\Scripts\\\\',\n",
       " 'C:\\\\Users\\\\Krzysztof\\\\AppData\\\\Local\\\\Programs\\\\Python\\\\Python313\\\\',\n",
       " 'C:\\\\Users\\\\Krzysztof\\\\AppData\\\\Local\\\\Programs\\\\Python\\\\Launcher\\\\',\n",
       " 'C:\\\\Users\\\\Krzysztof\\\\AppData\\\\Local\\\\Programs\\\\Python\\\\Python311\\\\Scripts\\\\',\n",
       " 'C:\\\\Users\\\\Krzysztof\\\\AppData\\\\Local\\\\Programs\\\\Python\\\\Python311\\\\']"
      ]
     },
     "execution_count": 101,
     "metadata": {},
     "output_type": "execute_result"
    }
   ],
   "source": [
    "list(filter(lambda x: 'Python' in x, os.environ['PATH'].split(';')))"
   ]
  },
  {
   "cell_type": "markdown",
   "id": "22a29cc9-12be-47ae-a181-b1923aee3536",
   "metadata": {},
   "source": [
    "**`os.getcwd()`**"
   ]
  },
  {
   "cell_type": "code",
   "execution_count": 103,
   "id": "eda5ae2e-6eba-4c58-a78c-7fb2627a2274",
   "metadata": {},
   "outputs": [
    {
     "data": {
      "text/plain": [
       "'C:\\\\Users\\\\Krzysztof\\\\__projects\\\\__uwm_zaawansowany_python\\\\lab_09'"
      ]
     },
     "execution_count": 103,
     "metadata": {},
     "output_type": "execute_result"
    }
   ],
   "source": [
    "os.getcwd()"
   ]
  },
  {
   "cell_type": "code",
   "execution_count": 106,
   "id": "bce86fbc-2c66-4f8c-a58f-d287360d5b3f",
   "metadata": {},
   "outputs": [
    {
     "data": {
      "text/plain": [
       "'C:\\\\Users\\\\Krzysztof\\\\__projects'"
      ]
     },
     "execution_count": 106,
     "metadata": {},
     "output_type": "execute_result"
    }
   ],
   "source": [
    "# zmiana bieżącej ścieżki\n",
    "os.chdir('..')\n",
    "os.getcwd()"
   ]
  },
  {
   "cell_type": "code",
   "execution_count": null,
   "id": "8f14ba0a-17f3-41e1-be21-81a9e14abd9b",
   "metadata": {},
   "outputs": [],
   "source": [
    "# oczywiście do zmiany na właściwą dla projektu ścieżkę\n",
    "os.chdir(r'.\\__uwm_zaawansowany_python\\lab_09')"
   ]
  },
  {
   "cell_type": "code",
   "execution_count": 115,
   "id": "e6919070-6315-425f-9699-4a552fd5f575",
   "metadata": {},
   "outputs": [
    {
     "data": {
      "text/plain": [
       "'C:\\\\Users\\\\Krzysztof\\\\__projects\\\\__uwm_zaawansowany_python\\\\lab_09'"
      ]
     },
     "execution_count": 115,
     "metadata": {},
     "output_type": "execute_result"
    }
   ],
   "source": [
    "os.getcwd()"
   ]
  },
  {
   "cell_type": "code",
   "execution_count": 121,
   "id": "4decefc6-c071-4a63-a9be-1daa360bdcaf",
   "metadata": {},
   "outputs": [
    {
     "data": {
      "text/plain": [
       "'Krzysztof'"
      ]
     },
     "execution_count": 121,
     "metadata": {},
     "output_type": "execute_result"
    }
   ],
   "source": [
    "os.getlogin()"
   ]
  },
  {
   "cell_type": "markdown",
   "id": "cc83d378-021c-47ae-b4cc-6240a4f4aa04",
   "metadata": {},
   "source": [
    "Moduł `os` zawiera wiele niskopoziomowych funkcji do obsługi plików. Można je znaleźć w sekcji https://docs.python.org/3/library/os.html#file-descriptor-operations. Pozwalają one między innymi na zmianę uprawnień do pliku, odczytywanie danych z pliku w różny sposób, kopiowanie fragmentów między plikami i wiele innych niskopoziomowych funkcji związanych z obsługą plików."
   ]
  },
  {
   "cell_type": "markdown",
   "id": "200e5cbb-9831-478b-a93e-f9f795446dc3",
   "metadata": {},
   "source": [
    "**`os.access(filepath, mode)`**"
   ]
  },
  {
   "cell_type": "markdown",
   "id": "4dccdd86-d028-4ebf-84e2-849214591cab",
   "metadata": {},
   "source": [
    "Dostępne wartości parametru `mode`:\n",
    "* os.F_OK - czy istnieje\n",
    "* os.R_OK - odczyt (read)\n",
    "* os.W_OK - zapis (write)\n",
    "* os.X_OK - wykonanie (execute)"
   ]
  },
  {
   "cell_type": "code",
   "execution_count": 124,
   "id": "dec0c978-d9ff-4310-aba6-855f1b398e26",
   "metadata": {},
   "outputs": [
    {
     "data": {
      "text/plain": [
       "True"
      ]
     },
     "execution_count": 124,
     "metadata": {},
     "output_type": "execute_result"
    }
   ],
   "source": [
    "os.access('.', mode=os.R_OK)"
   ]
  },
  {
   "cell_type": "code",
   "execution_count": 126,
   "id": "59dce1f9-1f16-462c-81bf-07baf199e5b8",
   "metadata": {},
   "outputs": [
    {
     "data": {
      "text/plain": [
       "['.ipynb_checkpoints', 'adv_python_09.ipynb', 'dane', 'test.py']"
      ]
     },
     "execution_count": 126,
     "metadata": {},
     "output_type": "execute_result"
    }
   ],
   "source": [
    "# listuje zawartość wskazanego folderu\n",
    "os.listdir('.')"
   ]
  },
  {
   "cell_type": "markdown",
   "id": "1bb92850-2ae4-4b23-a58e-17571cc0bb5f",
   "metadata": {},
   "source": [
    "**`os.mkdir(path, mode=0o777, *, dir_fd=None)`**"
   ]
  },
  {
   "cell_type": "markdown",
   "id": "645426e9-636a-4fc5-8498-3858cd02a44a",
   "metadata": {},
   "source": [
    "Funkcja pozwala stworzyć folder zdefiniowany poprzez atrybut `path`. Zgłasza wyjątek `FileExistsError` jeżeli folder już istnieje lub `FileNotFoundError` jeżeli folder nadrzędny nie istnieje."
   ]
  },
  {
   "cell_type": "code",
   "execution_count": 127,
   "id": "abc8ede0-aa1c-458b-a172-b248ea46882c",
   "metadata": {},
   "outputs": [],
   "source": [
    "os.mkdir('test')"
   ]
  },
  {
   "cell_type": "code",
   "execution_count": 128,
   "id": "148a9203-c8a0-456e-9b95-04de6586f51c",
   "metadata": {},
   "outputs": [
    {
     "data": {
      "text/plain": [
       "True"
      ]
     },
     "execution_count": 128,
     "metadata": {},
     "output_type": "execute_result"
    }
   ],
   "source": [
    "os.access('test', mode=os.R_OK)"
   ]
  },
  {
   "cell_type": "markdown",
   "id": "241408e9-12df-4fb6-a7ac-fa86077dd00e",
   "metadata": {},
   "source": [
    "**`os.makedirs(name, mode=0o777, exist_ok=False)`**"
   ]
  },
  {
   "cell_type": "markdown",
   "id": "4ade975e-7b80-43a5-9a20-90a196ce397d",
   "metadata": {},
   "source": [
    "Funkcja, która służy do tworzenia folderów, ale tworzy je rekurencyjnie, jeżeli którykolwiek z podanych w ścieżce nie istnieje (to zależy również od wartości parametru `exist_ok`). Jeżeli `exist_ok` ma wartość `True` to nie jest zgłaszany wyjątek `FileExistsError`."
   ]
  },
  {
   "cell_type": "code",
   "execution_count": 130,
   "id": "668af1b0-085c-440c-9776-6fd4758c86fa",
   "metadata": {},
   "outputs": [],
   "source": [
    "os.makedirs('./ala/ma/kota')"
   ]
  },
  {
   "cell_type": "code",
   "execution_count": 141,
   "id": "7a9a5a1f-0743-4df1-a25c-116df76ab60b",
   "metadata": {},
   "outputs": [
    {
     "data": {
      "text/plain": [
       "True"
      ]
     },
     "execution_count": 141,
     "metadata": {},
     "output_type": "execute_result"
    }
   ],
   "source": [
    "os.access('./ala/ma/kota', mode=os.R_OK)"
   ]
  },
  {
   "cell_type": "markdown",
   "id": "fa6ca219-85d1-42c0-95c1-403d5d84a52f",
   "metadata": {},
   "source": [
    "**`os.remove(path, *, dir_fd=None)`**"
   ]
  },
  {
   "cell_type": "markdown",
   "id": "189522a9-81b3-4a73-b639-b5f956e55f69",
   "metadata": {},
   "source": [
    "Służy do usuwania plików i zgłasza wyjątek `OSError` jeżeli podana ścieżka wskazuje na folder. Do usuwania folderów służy funkcja `os.rmdir()`"
   ]
  },
  {
   "cell_type": "code",
   "execution_count": 142,
   "id": "a3858e5a-16ca-4ef2-aa5e-1224a02ae305",
   "metadata": {},
   "outputs": [],
   "source": [
    "!echo \"Hello world!\" > plik.txt"
   ]
  },
  {
   "cell_type": "code",
   "execution_count": 143,
   "id": "c0a0625d-0cbc-4829-b7c8-0c74495886b2",
   "metadata": {},
   "outputs": [
    {
     "name": "stdout",
     "output_type": "stream",
     "text": [
      "adv_python_09.ipynb\n",
      "ala\n",
      "dane\n",
      "plik.txt\n",
      "test\n",
      "test.py\n"
     ]
    }
   ],
   "source": [
    "!ls"
   ]
  },
  {
   "cell_type": "code",
   "execution_count": 144,
   "id": "ee78ed19-a165-4fe6-8e24-ee2162a34ac4",
   "metadata": {},
   "outputs": [],
   "source": [
    "os.remove('plik.txt')"
   ]
  },
  {
   "cell_type": "code",
   "execution_count": 145,
   "id": "5f7ec84b-bc67-4c73-90ba-979cf7f0ec61",
   "metadata": {},
   "outputs": [
    {
     "name": "stdout",
     "output_type": "stream",
     "text": [
      "adv_python_09.ipynb\n",
      "ala\n",
      "dane\n",
      "test\n",
      "test.py\n"
     ]
    }
   ],
   "source": [
    "!ls"
   ]
  },
  {
   "cell_type": "code",
   "execution_count": 147,
   "id": "87c41abf-afe8-438b-9777-080fb74f03d8",
   "metadata": {},
   "outputs": [
    {
     "ename": "PermissionError",
     "evalue": "[WinError 5] Odmowa dostępu: 'ala/ma/kota'",
     "output_type": "error",
     "traceback": [
      "\u001b[1;31m---------------------------------------------------------------------------\u001b[0m",
      "\u001b[1;31mPermissionError\u001b[0m                           Traceback (most recent call last)",
      "Cell \u001b[1;32mIn[147], line 1\u001b[0m\n\u001b[1;32m----> 1\u001b[0m \u001b[43mos\u001b[49m\u001b[38;5;241;43m.\u001b[39;49m\u001b[43mremove\u001b[49m\u001b[43m(\u001b[49m\u001b[38;5;124;43m'\u001b[39;49m\u001b[38;5;124;43mala/ma/kota\u001b[39;49m\u001b[38;5;124;43m'\u001b[39;49m\u001b[43m)\u001b[49m\n",
      "\u001b[1;31mPermissionError\u001b[0m: [WinError 5] Odmowa dostępu: 'ala/ma/kota'"
     ]
    }
   ],
   "source": [
    "os.remove('ala/ma/kota')"
   ]
  },
  {
   "cell_type": "markdown",
   "id": "14cdc467-9b16-4e1e-a8a6-a1a6eb3dd05c",
   "metadata": {},
   "source": [
    "**`os.removedirs(name)`**"
   ]
  },
  {
   "cell_type": "markdown",
   "id": "f6d18210-6ad2-4689-beb8-53677dc1b58d",
   "metadata": {},
   "source": [
    "Usuwanie folderów rekurencyjnie. Usuwanie odbywa się począwszy od liścia i jeżeli któryś z kolejnych folderów nie jest pusty to folder nie zostanie usunięty."
   ]
  },
  {
   "cell_type": "code",
   "execution_count": 148,
   "id": "e3dbd678-9183-4b37-8c10-4363b58e35cd",
   "metadata": {},
   "outputs": [],
   "source": [
    "os.removedirs('./ala/ma/kota')"
   ]
  },
  {
   "cell_type": "code",
   "execution_count": 149,
   "id": "577b8d01-b3bf-4890-aaad-d1462a73a0e2",
   "metadata": {},
   "outputs": [
    {
     "name": "stdout",
     "output_type": "stream",
     "text": [
      "adv_python_09.ipynb\n",
      "dane\n",
      "test\n",
      "test.py\n"
     ]
    }
   ],
   "source": [
    "!ls"
   ]
  },
  {
   "cell_type": "code",
   "execution_count": 152,
   "id": "36cf5390-6b97-4455-9509-a9b063cf4ee6",
   "metadata": {},
   "outputs": [],
   "source": [
    "os.makedirs('./ala/ma/kota')"
   ]
  },
  {
   "cell_type": "code",
   "execution_count": 153,
   "id": "9f7a300b-8c4d-41e8-a803-6c9c09f462ae",
   "metadata": {},
   "outputs": [],
   "source": [
    "!echo \"Bla bla ...\" > ./ala/ma/test.txt"
   ]
  },
  {
   "cell_type": "code",
   "execution_count": 154,
   "id": "a0d56ea4-df96-463c-8df4-cbf862bb7135",
   "metadata": {},
   "outputs": [
    {
     "name": "stdout",
     "output_type": "stream",
     "text": [
      "kota\n",
      "test.txt\n"
     ]
    }
   ],
   "source": [
    "!ls ./ala/ma"
   ]
  },
  {
   "cell_type": "code",
   "execution_count": 155,
   "id": "8abe048a-23c4-49fa-b15b-3b36c0280862",
   "metadata": {},
   "outputs": [],
   "source": [
    "os.removedirs('./ala/ma/kota')"
   ]
  },
  {
   "cell_type": "code",
   "execution_count": 157,
   "id": "10381679-f406-4985-94e9-021b4272fb64",
   "metadata": {},
   "outputs": [
    {
     "name": "stdout",
     "output_type": "stream",
     "text": [
      ".:\n",
      "adv_python_09.ipynb\n",
      "ala\n",
      "dane\n",
      "test\n",
      "test.py\n",
      "\n",
      "./ala:\n",
      "ma\n",
      "\n",
      "./ala/ma:\n",
      "test.txt\n",
      "\n",
      "./dane:\n",
      "\n",
      "./test:\n"
     ]
    }
   ],
   "source": [
    "!ls -R"
   ]
  },
  {
   "cell_type": "markdown",
   "id": "1a90ddb9-d855-4b49-8e9c-9f025a735ff2",
   "metadata": {},
   "source": [
    "Jak widać na powyższych przykładach, podfolder o nazwie `kota` ze ścieżki `ala\\ma\\kota` został usunięty, ale pozostałe nie gdyż podfolder `ma` nie był pusty."
   ]
  },
  {
   "cell_type": "markdown",
   "id": "373f27d1-400a-4436-907a-079095284530",
   "metadata": {},
   "source": [
    "**`os.rename(src, dst, *, src_dir_fd=None, dst_dir_fd=None)`**"
   ]
  },
  {
   "cell_type": "markdown",
   "id": "8ef66a20-aadb-4c19-a388-973dc6d0df76",
   "metadata": {},
   "source": [
    "Funkcja służy do zmiany nazwy plików lub folderów. `os.renames` służy do tego samego celu, ale w sposób rekurencyjny."
   ]
  },
  {
   "cell_type": "code",
   "execution_count": 159,
   "id": "0897d4e9-7036-4862-9979-5dde7a419ca8",
   "metadata": {},
   "outputs": [],
   "source": [
    "os.rename('./ala/ma','./ala/miała')"
   ]
  },
  {
   "cell_type": "code",
   "execution_count": 161,
   "id": "c0af1929-9419-4243-a1a9-59422710c40c",
   "metadata": {},
   "outputs": [
    {
     "name": "stdout",
     "output_type": "stream",
     "text": [
      ".:\n",
      "adv_python_09.ipynb\n",
      "ala\n",
      "dane\n",
      "test\n",
      "test.py\n",
      "\n",
      "./ala:\n",
      "miaĹ‚a\n",
      "\n",
      "./ala/miaĹ‚a:\n",
      "test.txt\n",
      "\n",
      "./dane:\n",
      "\n",
      "./test:\n"
     ]
    }
   ],
   "source": [
    "!ls -R"
   ]
  },
  {
   "cell_type": "code",
   "execution_count": 163,
   "id": "5a5bcd53-e391-44d0-9e32-2789754c07a1",
   "metadata": {},
   "outputs": [
    {
     "name": "stdout",
     "output_type": "stream",
     "text": [
      ".:\n",
      "adv_python_09.ipynb\n",
      "ala\n",
      "dane\n",
      "test\n",
      "test.py\n",
      "\n",
      "./ala:\n",
      "miała\n",
      "\n",
      "./ala/miała:\n",
      "test.txt\n",
      "\n",
      "./dane:\n",
      "\n",
      "./test:\n",
      "\n"
     ]
    }
   ],
   "source": [
    "# brak poprawnego kodowania wyjścia do UTF-8 można obejść w poniższy sposób (ale nie jest jedyny)\n",
    "import subprocess\n",
    "\n",
    "result = subprocess.run(['ls', '-R'], stdout=subprocess.PIPE)\n",
    "print(result.stdout.decode())"
   ]
  },
  {
   "cell_type": "markdown",
   "id": "52e86e19-da69-492b-8173-528ab305522a",
   "metadata": {},
   "source": [
    "**`os.scandir(path='.')`**"
   ]
  },
  {
   "cell_type": "markdown",
   "id": "8c69daaa-6a24-406d-ad4c-b126faa260fd",
   "metadata": {},
   "source": [
    "Jest to funkcja, która zwraca iterator obiektów `os.DirEntry` poczynając od wskazanej ścieżki. Elementy są zwracane w porządku arbitralnym, a elementy specjalne `.` oraz `..` są pomijane. Jeżeli kod, który korzysta z drzewa elementów wybranego fragmentu systemu plików będzie wykorzystywał inne funkcje sprawdzające atrybuty tych obiektów (plików, folderów) takie jak uprawnienia, typ zasobu itp. to rozwiązanie bazujące na funkcji `scandir()` będzie znacznie wydajniejsze względem funkcji `listdir()`, która również zostanie tutaj zaprezentowana.\n",
    "\n",
    "Klasa `os.DirEntry` pozwala na sprawdzenie wartości wielu atrybutów danego zasobu, a ich lista znajduje się w dokumentacji:\n",
    "* https://docs.python.org/3/library/os.html#os.DirEntry"
   ]
  },
  {
   "cell_type": "code",
   "execution_count": 200,
   "id": "791f1813-63f7-45be-aa2a-da19415c711a",
   "metadata": {},
   "outputs": [
    {
     "name": "stdout",
     "output_type": "stream",
     "text": [
      "<DirEntry '.ipynb_checkpoints'>\n",
      "<DirEntry 'adv_python_09.ipynb'>\n",
      "<DirEntry 'ala'>\n",
      "<DirEntry 'dane'>\n",
      "<DirEntry 'test'>\n",
      "<DirEntry 'test.py'>\n"
     ]
    }
   ],
   "source": [
    "fs = os.scandir()\n",
    "for item in fs:\n",
    "    print(item)"
   ]
  },
  {
   "cell_type": "code",
   "execution_count": 173,
   "id": "7863466a-24f7-44e8-ad4a-d0285e8c7023",
   "metadata": {},
   "outputs": [
    {
     "data": {
      "text/plain": [
       "['adv_python_09.ipynb', 'test.py']"
      ]
     },
     "execution_count": 173,
     "metadata": {},
     "output_type": "execute_result"
    }
   ],
   "source": [
    "# pamiętaj, że iteratory są wyczerpywalne, więc po przejściu należy je ponownie przeładować\n",
    "files = [f.name for f in fs if f.is_file()]\n",
    "files"
   ]
  },
  {
   "cell_type": "code",
   "execution_count": 198,
   "id": "4a53c06e-75bc-41a1-aa5e-700bf537ee6c",
   "metadata": {},
   "outputs": [
    {
     "name": "stdout",
     "output_type": "stream",
     "text": [
      "os.stat_result(st_mode=16895, st_ino=0, st_dev=0, st_nlink=0, st_uid=0, st_gid=0, st_size=0, st_atime=1746598958, st_mtime=1746433731, st_ctime=1746433198)\n",
      "os.stat_result(st_mode=33206, st_ino=0, st_dev=0, st_nlink=0, st_uid=0, st_gid=0, st_size=44987, st_atime=1746604200, st_mtime=1746604200, st_ctime=1746433198)\n",
      "os.stat_result(st_mode=16895, st_ino=0, st_dev=0, st_nlink=0, st_uid=0, st_gid=0, st_size=0, st_atime=1746603658, st_mtime=1746600026, st_ctime=1746599682)\n",
      "os.stat_result(st_mode=16895, st_ino=0, st_dev=0, st_nlink=0, st_uid=0, st_gid=0, st_size=0, st_atime=1746598958, st_mtime=1746465310, st_ctime=1746465310)\n",
      "os.stat_result(st_mode=16895, st_ino=0, st_dev=0, st_nlink=0, st_uid=0, st_gid=0, st_size=0, st_atime=1746598686, st_mtime=1746598686, st_ctime=1746598686)\n",
      "os.stat_result(st_mode=33206, st_ino=0, st_dev=0, st_nlink=0, st_uid=0, st_gid=0, st_size=288, st_atime=1746600298, st_mtime=1746446660, st_ctime=1746433724)\n"
     ]
    }
   ],
   "source": [
    "# wyświetlenie wybranych atrybutów zasobów, które sa dostępne bez względu na system operacyjny\n",
    "# istnieją też inne atrybuty, których wartość może nie występować dla każdego systemu operacyjnego\n",
    "# szczegóły do sprawdzenia w dokumentacji\n",
    "\n",
    "for item in fs:\n",
    "    print(item.stat())"
   ]
  },
  {
   "cell_type": "code",
   "execution_count": 199,
   "id": "a452659a-c9a7-43c8-b694-0e169ef4227b",
   "metadata": {},
   "outputs": [
    {
     "name": "stdout",
     "output_type": "stream",
     "text": [
      ".ipynb_checkpoints\n",
      "adv_python_09.ipynb\n",
      "ala\n",
      "dane\n",
      "test\n",
      "test.py\n"
     ]
    }
   ],
   "source": [
    "# list dir wyświetla tylko nazwy zasobów, więc nadaje się idealnie do szybkiego odfiltrowania ich po nazwach\n",
    "fs = os.listdir()\n",
    "for item in fs:\n",
    "    print(item)"
   ]
  },
  {
   "cell_type": "code",
   "execution_count": 201,
   "id": "6b79375c-df5c-4889-a00b-9ad97dfc273b",
   "metadata": {},
   "outputs": [
    {
     "data": {
      "text/plain": [
       "['test.py']"
      ]
     },
     "execution_count": 201,
     "metadata": {},
     "output_type": "execute_result"
    }
   ],
   "source": [
    "[f for f in os.listdir() if f.endswith('.py')]"
   ]
  },
  {
   "cell_type": "markdown",
   "id": "7ccfe07b-a247-4219-a05a-3c05c8a95cb2",
   "metadata": {},
   "source": [
    "**`os.walk(top, topdown=True, onerror=None, followlinks=False)`**"
   ]
  },
  {
   "cell_type": "markdown",
   "id": "dfd4419f-fb16-48bf-bc7b-2fd062ebab93",
   "metadata": {},
   "source": [
    "Kolejna funkcja pozwalająca na eksplorację systemu plików z poziomu języka Python. Funkcja zwraca trzyelementową krotkę `(dirpath, dirnames, filenames)`,w której:\n",
    "* `dirpath` - ścieżka do listowanego folderu\n",
    "* `dirnames` - nazwy wszystkich podfolderów ścieżki `dirpath`\n",
    "* `filenames` - nazwy wszystkich plików ścieżki `dirpath`\n",
    "\n",
    "Funkcja domyślnie przechodzi przez strukturę w kierunku top-down, ale możemy to zmienić wartością parametru `topdown`."
   ]
  },
  {
   "cell_type": "code",
   "execution_count": 206,
   "id": "91541b01-2767-49f1-b732-1ae804065939",
   "metadata": {},
   "outputs": [
    {
     "name": "stdout",
     "output_type": "stream",
     "text": [
      "('./ala', ['miała'], [])\n",
      "('./ala\\\\miała', [], ['test.txt'])\n"
     ]
    }
   ],
   "source": [
    "for level in os.walk('./ala'):\n",
    "    print(level)"
   ]
  },
  {
   "cell_type": "code",
   "execution_count": 209,
   "id": "9a2e1857-3f3b-4812-b886-50bb72b345b6",
   "metadata": {},
   "outputs": [
    {
     "name": "stdout",
     "output_type": "stream",
     "text": [
      "('./ala\\\\miała', [], ['test.txt'])\n",
      "('./ala', ['miała'], [])\n"
     ]
    }
   ],
   "source": [
    "for level in os.walk('./ala', topdown=False):\n",
    "    print(level)"
   ]
  },
  {
   "cell_type": "markdown",
   "id": "907e1518-6c37-4dc1-b960-346d3160f017",
   "metadata": {},
   "source": [
    "**Inne wybrane elementy modułu `os`**"
   ]
  },
  {
   "cell_type": "code",
   "execution_count": 165,
   "id": "74d369a4-397f-44a8-b53e-5f6cbe38809b",
   "metadata": {},
   "outputs": [
    {
     "data": {
      "text/plain": [
       "12"
      ]
     },
     "execution_count": 165,
     "metadata": {},
     "output_type": "execute_result"
    }
   ],
   "source": [
    "# zwraca liczbę procesorów logicznych w systemie\n",
    "os.cpu_count()"
   ]
  },
  {
   "cell_type": "code",
   "execution_count": 210,
   "id": "9d97914b-75d9-4ca1-9f27-f02510e85745",
   "metadata": {},
   "outputs": [
    {
     "data": {
      "text/plain": [
       "0"
      ]
     },
     "execution_count": 210,
     "metadata": {},
     "output_type": "execute_result"
    }
   ],
   "source": [
    "# pozwala na wykonanie polecenia powłoki\n",
    "os.system('dir')"
   ]
  },
  {
   "cell_type": "markdown",
   "id": "bcc6ec4c-7a32-4538-95ce-997f73aba46f",
   "metadata": {},
   "source": [
    "Dlaczego taki outpup?\n",
    "\n",
    "Za dokumentacją (https://docs.python.org/3/library/os.html#os.system):\n",
    "> On Unix, the return value is the exit status of the process encoded in the format specified for wait().\n",
    "\n",
    "> On Windows, the return value is that returned by the system shell after running command. The shell is given by the Windows environment variable COMSPEC: it is usually cmd.exe, which returns the exit status of the command run; on systems using a non-native shell, consult your shell documentation.\n",
    "\n",
    "I również tam znajdziemy informację, że w takim przypadku lepszym pomysłem jest wykorzystanie modułu `subprocess`."
   ]
  },
  {
   "cell_type": "code",
   "execution_count": 213,
   "id": "a9a0b07d-e6fc-4848-8170-c0469e7c2eff",
   "metadata": {},
   "outputs": [
    {
     "data": {
      "text/plain": [
       "'\\\\'"
      ]
     },
     "execution_count": 213,
     "metadata": {},
     "output_type": "execute_result"
    }
   ],
   "source": [
    "# zwraca separator ścieżek w systemie plików dla bieżącego systemu operacyjnego\n",
    "os.sep"
   ]
  },
  {
   "cell_type": "markdown",
   "id": "bce57aa5-118b-4be5-bbbf-5b6fd780edc3",
   "metadata": {},
   "source": [
    "## 3. Moduł `os.path`"
   ]
  },
  {
   "cell_type": "markdown",
   "id": "27b593a2-6b13-4138-87d5-8c3e36ea5c63",
   "metadata": {},
   "source": [
    "Jest to moduł w module `os`, który zawiera przydatne funkcje do pracy ze ścieżkami w systemie plików. Poniżej zaprezentowane zostaną tylko wybrane z nich. Dla pełnego ich przeglądu zapraszam do oficjalnej dokumentacji:\n",
    "* https://docs.python.org/3/library/os.path.html#module-os.path"
   ]
  },
  {
   "cell_type": "markdown",
   "id": "65f16803-f422-4d7c-b107-fb5ccf751828",
   "metadata": {},
   "source": [
    "Jedną z najpowszechniej wykorzystywanych funkcji jest `os.path.join`, która służy do budowania poprawnej ścieżki w kontekście bieżącego systemu operacyjnego z podanych elementów."
   ]
  },
  {
   "cell_type": "code",
   "execution_count": 222,
   "id": "05d89bc3-0887-4c09-8b74-556b76d397ae",
   "metadata": {},
   "outputs": [],
   "source": [
    "# przyjmijmy, że mamy stałą DATAPATH, która wskazuje na globalny folder z danymi (pamiętajmy, że to znowu konwencja - umowa)\n",
    "DATAPATH = './dane/'"
   ]
  },
  {
   "cell_type": "code",
   "execution_count": 216,
   "id": "a5a42c3d-0a72-4de0-8522-b540c2428e0b",
   "metadata": {},
   "outputs": [],
   "source": [
    "# nasz plik będzie się nazywał dummy_data.txt\n",
    "filename = 'dummy_data.txt'"
   ]
  },
  {
   "cell_type": "code",
   "execution_count": 223,
   "id": "2ceb511d-c8d0-4ca8-a76b-0b2f03f9d5fd",
   "metadata": {},
   "outputs": [
    {
     "data": {
      "text/plain": [
       "'./dane/dummy_data.txt'"
      ]
     },
     "execution_count": 223,
     "metadata": {},
     "output_type": "execute_result"
    }
   ],
   "source": [
    "filepath = os.path.join(DATAPATH, filename)\n",
    "filepath"
   ]
  },
  {
   "cell_type": "code",
   "execution_count": 224,
   "id": "06f2ccd2-ef67-4cb1-8587-4a8799d38c44",
   "metadata": {},
   "outputs": [],
   "source": [
    "with open(filepath, 'w', encoding='utf-8') as file:\n",
    "    file.write('moje dummy data')"
   ]
  },
  {
   "cell_type": "code",
   "execution_count": 225,
   "id": "05100cde-7be3-4785-8c4b-7881a2b2e049",
   "metadata": {},
   "outputs": [
    {
     "data": {
      "text/plain": [
       "['dummy_data.txt', 'd_pl_txt.zip']"
      ]
     },
     "execution_count": 225,
     "metadata": {},
     "output_type": "execute_result"
    }
   ],
   "source": [
    "os.listdir(DATAPATH)"
   ]
  },
  {
   "cell_type": "markdown",
   "id": "e27ebeee-39e3-4faf-8624-f86817750c37",
   "metadata": {},
   "source": [
    "Inne wybrane funkcje w tym module."
   ]
  },
  {
   "cell_type": "code",
   "execution_count": 226,
   "id": "b3cd34f2-bfef-4dfd-820a-77bf99f09841",
   "metadata": {},
   "outputs": [
    {
     "data": {
      "text/plain": [
       "'C:\\\\Users\\\\Krzysztof\\\\__projects\\\\__uwm_zaawansowany_python\\\\lab_09\\\\dane\\\\dummy_data.txt'"
      ]
     },
     "execution_count": 226,
     "metadata": {},
     "output_type": "execute_result"
    }
   ],
   "source": [
    "# ścieżka bezwzględna\n",
    "os.path.abspath(filepath)"
   ]
  },
  {
   "cell_type": "code",
   "execution_count": 229,
   "id": "8c1cd982-e8c2-41ed-afe8-bd435b6089b4",
   "metadata": {},
   "outputs": [
    {
     "data": {
      "text/plain": [
       "'dummy_data.txt'"
      ]
     },
     "execution_count": 229,
     "metadata": {},
     "output_type": "execute_result"
    }
   ],
   "source": [
    "# ostatni człon ścieżki, wartość różni się w zależności od tego czy jest to plik czy folder\n",
    "os.path.basename(filepath)"
   ]
  },
  {
   "cell_type": "code",
   "execution_count": 228,
   "id": "d46121ef-e58d-4ada-a0bf-0f641edfca99",
   "metadata": {},
   "outputs": [
    {
     "data": {
      "text/plain": [
       "''"
      ]
     },
     "execution_count": 228,
     "metadata": {},
     "output_type": "execute_result"
    }
   ],
   "source": [
    "os.path.basename(DATAPATH)"
   ]
  },
  {
   "cell_type": "code",
   "execution_count": 230,
   "id": "b4a78f86-722f-4c7e-be7d-8abd2f8b7c4f",
   "metadata": {},
   "outputs": [
    {
     "data": {
      "text/plain": [
       "'./dane'"
      ]
     },
     "execution_count": 230,
     "metadata": {},
     "output_type": "execute_result"
    }
   ],
   "source": [
    "os.path.dirname(DATAPATH)"
   ]
  },
  {
   "cell_type": "code",
   "execution_count": 231,
   "id": "46245a33-47cc-4620-a26d-8c0e425c31fc",
   "metadata": {},
   "outputs": [
    {
     "data": {
      "text/plain": [
       "'./dane'"
      ]
     },
     "execution_count": 231,
     "metadata": {},
     "output_type": "execute_result"
    }
   ],
   "source": [
    "os.path.dirname(filepath)"
   ]
  },
  {
   "cell_type": "code",
   "execution_count": 232,
   "id": "f1644988-6d64-467d-a3b4-653ffd76c92d",
   "metadata": {},
   "outputs": [
    {
     "data": {
      "text/plain": [
       "True"
      ]
     },
     "execution_count": 232,
     "metadata": {},
     "output_type": "execute_result"
    }
   ],
   "source": [
    "# czy ścieżka istnieje\n",
    "os.path.exists(DATAPATH)"
   ]
  },
  {
   "cell_type": "code",
   "execution_count": 233,
   "id": "74e50efe-1a4c-4f6e-9b1d-460b26347eed",
   "metadata": {},
   "outputs": [
    {
     "data": {
      "text/plain": [
       "True"
      ]
     },
     "execution_count": 233,
     "metadata": {},
     "output_type": "execute_result"
    }
   ],
   "source": [
    "os.path.exists(filepath)"
   ]
  },
  {
   "cell_type": "code",
   "execution_count": 236,
   "id": "b68a2a41-2e9c-469c-86e3-f7eebda06288",
   "metadata": {},
   "outputs": [
    {
     "data": {
      "text/plain": [
       "15"
      ]
     },
     "execution_count": 236,
     "metadata": {},
     "output_type": "execute_result"
    }
   ],
   "source": [
    "# zwraca rozmiar w bajtach - dla folderów wartość -> 0\n",
    "os.path.getsize(filepath)"
   ]
  },
  {
   "cell_type": "code",
   "execution_count": 239,
   "id": "d3172f78-4c44-4fb3-a4f0-91ce0d51a15b",
   "metadata": {},
   "outputs": [
    {
     "name": "stdout",
     "output_type": "stream",
     "text": [
      "True\n",
      "False\n",
      "False\n",
      "False\n"
     ]
    }
   ],
   "source": [
    "# czy plik?\n",
    "print(os.path.isfile(filepath))\n",
    "# czy folder?\n",
    "print(os.path.isdir(filepath))\n",
    "# czy symlink (głównie UNIX)?\n",
    "print(os.path.islink(filepath))\n",
    "# czy ścieżka bezwzględna?\n",
    "print(os.path.isabs(filepath))"
   ]
  },
  {
   "cell_type": "code",
   "execution_count": 247,
   "id": "f3b99cf8-b1f7-4e2d-a462-55a8e744be48",
   "metadata": {},
   "outputs": [
    {
     "name": "stdout",
     "output_type": "stream",
     "text": [
      "1 C:\\Users\\Krzysztof\\__projects\\__uwm_zaawansowany_python\\lab_09\\dane\\dummy_data.txt\n",
      "2 c:\\users\\krzysztof\\__projects\\__uwm_zaawansowany_python\\lab_09\\dane\\dummy_data.txt\n",
      "3 C:\\Users\\Krzysztof\\__projects\\__uwm_zaawansowany_python\\lab_09\\dane\\dummy_data.txt\n",
      "4 C:\\Users\\Krzysztof\\__projects\\__uwm_zaawansowany_python\\lab_09\\dane\\dummy_data.txt\n",
      "5 dane\\dummy_data.txt\n"
     ]
    }
   ],
   "source": [
    "# pamiętajmy, że pierwotnie w kodzie ścieżka została zapisana w postaci: './dane/dummy_data.txt'\n",
    "print(1, os.path.abspath(filepath))\n",
    "print(2, os.path.normcase(os.path.abspath(filepath)))\n",
    "print(3, os.path.normpath(os.path.abspath(filepath)))\n",
    "print(4, os.path.realpath(os.path.abspath(filepath)))\n",
    "print(5, os.path.relpath(os.path.abspath(filepath)))"
   ]
  },
  {
   "cell_type": "code",
   "execution_count": 249,
   "id": "a1246b87-3b32-466a-bde9-3a40c9c2e788",
   "metadata": {},
   "outputs": [
    {
     "name": "stdout",
     "output_type": "stream",
     "text": [
      "1 C:\\Users\\Krzysztof\\__projects\n",
      "2 c:\\users\\krzysztof\\__projects\n",
      "3 C:\\Users\\Krzysztof\\__projects\n",
      "4 C:\\Users\\Krzysztof\\__projects\n",
      "5 ..\\..\n"
     ]
    }
   ],
   "source": [
    "# teraz naszą ścieżkę zmodyfikujemy nieco\n",
    "filepath = '../../'\n",
    "print(1, os.path.abspath(filepath))\n",
    "print(2, os.path.normcase(os.path.abspath(filepath)))\n",
    "print(3, os.path.normpath(os.path.abspath(filepath)))\n",
    "print(4, os.path.realpath(os.path.abspath(filepath)))\n",
    "print(5, os.path.relpath(os.path.abspath(filepath)))"
   ]
  },
  {
   "cell_type": "markdown",
   "id": "f49e33cd-e7f6-4b35-8115-ca7546d89270",
   "metadata": {},
   "source": [
    "**`os.path.split`**"
   ]
  },
  {
   "cell_type": "markdown",
   "id": "c51b2010-5346-4a94-8da5-631e3c78360b",
   "metadata": {},
   "source": [
    "Ta funkjca rozdziela ścieżkę na krotkę (bazowa ścieżka bez liścia (zazwyczaj zasób plikowy), liść). Poniżej przykład."
   ]
  },
  {
   "cell_type": "code",
   "execution_count": 250,
   "id": "0227f1cd-b10e-4c20-901e-55edee84853d",
   "metadata": {},
   "outputs": [
    {
     "data": {
      "text/plain": [
       "('./dane', 'dummy_data.txt')"
      ]
     },
     "execution_count": 250,
     "metadata": {},
     "output_type": "execute_result"
    }
   ],
   "source": [
    "filepath = os.path.join(DATAPATH, filename)\n",
    "os.path.split(filepath)"
   ]
  },
  {
   "cell_type": "code",
   "execution_count": 251,
   "id": "5ff1ddb6-fb87-466c-b0a1-3268ad7f46f7",
   "metadata": {},
   "outputs": [
    {
     "data": {
      "text/plain": [
       "('C:\\\\Users\\\\Krzysztof\\\\__projects\\\\__uwm_zaawansowany_python\\\\lab_09\\\\dane',\n",
       " 'dummy_data.txt')"
      ]
     },
     "execution_count": 251,
     "metadata": {},
     "output_type": "execute_result"
    }
   ],
   "source": [
    "os.path.split(os.path.abspath(filepath))"
   ]
  },
  {
   "cell_type": "markdown",
   "id": "ff381f12-08c1-4a2b-9aaa-2897240b23f3",
   "metadata": {},
   "source": [
    "### Zadania\n",
    "\n",
    "**Zadanie 1**\n",
    "\n",
    "Rozpakuj (możesz z poziomu Pythona albo systemu operacyjnego) plik `d_pl_txt.zip` (plik spakowany i podzielony na 3 części znajduje się w podfolderze `./dane`) w folderze `dane`. Wykorzystując narzędzia z modułu `os` wypisz ile jest folderów i ile plików w tym rozpakowanym pliku - czyli poniżej folderu o nazwie `d_pl_txt`.\n",
    "\n",
    "**Zadanie 2**\n",
    "\n",
    "Napisz funkcję o nazwie `file_stats`, która przyjmie dwa argumenty:\n",
    "* `base_path` - ścieżka wyszukiwania\n",
    "* `folder_name` - nazwa folderu do odszukania\n",
    "\n",
    "Jeżeli funkcja odnajdzie folder (rekurencyjnie) o podanej nazwie to ma zwrócić liczbę wszystkich plików, które znajdują się w nim (i tylko w nim, bez rekurencji) oraz łączną ich wielkość.\n",
    "\n",
    "**Zadanie 3**\n",
    "\n",
    "Napisz funkcję `fs_stats`, która:\n",
    "* jako argument przyjmuje ścieżkę,\n",
    "* rekurencyjnie przechodzi przez wszystkie elementy i zapisuje poniższe informacje do ramki pandas:\n",
    "  * nazwa elementu (folderu lub pliku)\n",
    "  * ścieżka względna\n",
    "  * ścieżka bezwzględna\n",
    "  * czy to folder\n",
    "  * czy to plik\n",
    "  * rozmiar w bajtach\n",
    "  * liczba linii w pliku\n",
    "\n",
    "**Zadanie 4**\n",
    "\n",
    "Wykorzystując kod z zadania 3 lub finalną ramkę danych scal zawartość wszystkich plików w jeden zbiór danych i zapisz go do pliku csv.\n",
    "\n",
    "**Zadanie 5**\n",
    "\n",
    "Wyjaśnij dlaczego liczba bajtów zaalokowanych dla trzech list przedstawionych w przykładzie użycia funkcji `sys.getsizeof()` różni się (lub nie) dla list o tej samej (lub różnej) ilości elementów?"
   ]
  }
 ],
 "metadata": {
  "kernelspec": {
   "display_name": "Python 3 (ipykernel)",
   "language": "python",
   "name": "python3"
  },
  "language_info": {
   "codemirror_mode": {
    "name": "ipython",
    "version": 3
   },
   "file_extension": ".py",
   "mimetype": "text/x-python",
   "name": "python",
   "nbconvert_exporter": "python",
   "pygments_lexer": "ipython3",
   "version": "3.12.7"
  }
 },
 "nbformat": 4,
 "nbformat_minor": 5
}
