{
 "cells": [
  {
   "cell_type": "markdown",
   "id": "335ae477-c729-4397-a678-f408e7df636b",
   "metadata": {},
   "source": [
    "# lab 10. Moduł `datetime`"
   ]
  },
  {
   "cell_type": "markdown",
   "id": "ea948b89-6227-43b6-90e1-e292e1392ede",
   "metadata": {},
   "source": [
    "Moduł `datetime` oferuje funkcje pozwalające na manipulowanie obiektami daty i czasu (ale póki co nie datą i czasem ;-) ). Pozwala to z dużym ułatwieniem pracować z takimi wartościami bez konieczności ręcznej obsługi lat przestępnych, ilości dni w danym miesiącu czy stref czasowych.\n",
    "\n",
    "> Dokumentacja:\n",
    "> * https://docs.python.org/3/library/datetime.html"
   ]
  },
  {
   "cell_type": "code",
   "execution_count": 180,
   "id": "19c70370-e92b-40c1-827f-70d3f9d07d06",
   "metadata": {},
   "outputs": [
    {
     "data": {
      "text/plain": [
       "['MAXYEAR',\n",
       " 'MINYEAR',\n",
       " 'UTC',\n",
       " '__all__',\n",
       " '__builtins__',\n",
       " '__cached__',\n",
       " '__doc__',\n",
       " '__file__',\n",
       " '__loader__',\n",
       " '__name__',\n",
       " '__package__',\n",
       " '__spec__',\n",
       " 'date',\n",
       " 'datetime',\n",
       " 'datetime_CAPI',\n",
       " 'time',\n",
       " 'timedelta',\n",
       " 'timezone',\n",
       " 'tzinfo']"
      ]
     },
     "execution_count": 180,
     "metadata": {},
     "output_type": "execute_result"
    }
   ],
   "source": [
    "import datetime\n",
    "\n",
    "# składowe modułu\n",
    "dir(datetime)"
   ]
  },
  {
   "cell_type": "markdown",
   "id": "8cb88aae-08fa-4886-8ee1-b94c36de78f1",
   "metadata": {},
   "source": [
    "Poniżej zostaną omówione wybrane funkcje tego modułu."
   ]
  },
  {
   "cell_type": "code",
   "execution_count": 181,
   "id": "f196374b-fa74-421b-bf0d-b56ed3c3180c",
   "metadata": {},
   "outputs": [
    {
     "data": {
      "text/plain": [
       "(1, 9999)"
      ]
     },
     "execution_count": 181,
     "metadata": {},
     "output_type": "execute_result"
    }
   ],
   "source": [
    "# zakres wartości składowej year w module datetime\n",
    "datetime.MINYEAR, datetime.MAXYEAR"
   ]
  },
  {
   "cell_type": "markdown",
   "id": "e8827861-95b8-479f-b918-6a6f952b1623",
   "metadata": {},
   "source": [
    "Wszystkie z wyżej wypisanych nazw (dir(datetime)) bez `__` są klasami w module datetime, i sa opisane tutaj: https://docs.python.org/3/library/datetime.html#available-types\n",
    "\n",
    "Reprezentują obiekty daty (date), czasu (time), daty i czasu (datetime), strefy czasowej (tzinfo, timezone) oraz różnicy między dwoma datami (timedelta)."
   ]
  },
  {
   "cell_type": "markdown",
   "id": "e7348a20-1742-4f11-b725-682defa04c75",
   "metadata": {},
   "source": [
    "**Obiekt typu `date`**"
   ]
  },
  {
   "cell_type": "markdown",
   "id": "44e8e47b-c788-4c69-96d9-0eed4f3f23ec",
   "metadata": {},
   "source": [
    "Sygantura: `class datetime.date(year, month, day)`"
   ]
  },
  {
   "cell_type": "code",
   "execution_count": 184,
   "id": "22adaf26-e82e-44d2-a2e3-e4911a7ce332",
   "metadata": {},
   "outputs": [],
   "source": [
    "d = datetime.date(2000, 1, 1)"
   ]
  },
  {
   "cell_type": "code",
   "execution_count": 185,
   "id": "0501f071-88a1-4877-9459-a40e8baabb6d",
   "metadata": {},
   "outputs": [
    {
     "data": {
      "text/plain": [
       "datetime.date(2000, 1, 1)"
      ]
     },
     "execution_count": 185,
     "metadata": {},
     "output_type": "execute_result"
    }
   ],
   "source": [
    "d"
   ]
  },
  {
   "cell_type": "code",
   "execution_count": 187,
   "id": "d5720f94-89d9-4e0b-833e-cdf3a13757bc",
   "metadata": {},
   "outputs": [
    {
     "data": {
      "text/plain": [
       "(2000, 1, 1)"
      ]
     },
     "execution_count": 187,
     "metadata": {},
     "output_type": "execute_result"
    }
   ],
   "source": [
    "d.year, d.month, d.day"
   ]
  },
  {
   "cell_type": "code",
   "execution_count": 188,
   "id": "dcf8ffab-acd3-4e69-81e1-ec128639dd95",
   "metadata": {},
   "outputs": [
    {
     "data": {
      "text/plain": [
       "datetime.date(2025, 5, 13)"
      ]
     },
     "execution_count": 188,
     "metadata": {},
     "output_type": "execute_result"
    }
   ],
   "source": [
    "# metody statyczne\n",
    "datetime.date.today()"
   ]
  },
  {
   "cell_type": "code",
   "execution_count": 190,
   "id": "b7ad0dae-bd6d-4188-b905-e8bfe22b5b87",
   "metadata": {},
   "outputs": [
    {
     "data": {
      "text/plain": [
       "datetime.date(1970, 1, 1)"
      ]
     },
     "execution_count": 190,
     "metadata": {},
     "output_type": "execute_result"
    }
   ],
   "source": [
    "# epoch start\n",
    "datetime.date.fromtimestamp(0)"
   ]
  },
  {
   "cell_type": "code",
   "execution_count": 194,
   "id": "4aef6fda-f088-405a-b5bb-8ef76fa5143b",
   "metadata": {},
   "outputs": [
    {
     "data": {
      "text/plain": [
       "datetime.date(1972, 9, 27)"
      ]
     },
     "execution_count": 194,
     "metadata": {},
     "output_type": "execute_result"
    }
   ],
   "source": [
    "# 1000 dni później\n",
    "# sekundy * minuty * godziny * dni\n",
    "stamp = 60 * 60 * 24 * 1000\n",
    "datetime.date.fromtimestamp(stamp)"
   ]
  },
  {
   "cell_type": "code",
   "execution_count": 195,
   "id": "8becc342-6208-42fd-9963-5b97754f7bc7",
   "metadata": {},
   "outputs": [
    {
     "data": {
      "text/plain": [
       "datetime.timedelta(days=1000)"
      ]
     },
     "execution_count": 195,
     "metadata": {},
     "output_type": "execute_result"
    }
   ],
   "source": [
    "# różnica między dwoma obiektami daty (daty i czasu) zwracana jest w postaci obiektu timedelta\n",
    "# sprawdzamy\n",
    "datetime.date.fromtimestamp(stamp) - datetime.date.fromtimestamp(0)"
   ]
  },
  {
   "cell_type": "code",
   "execution_count": 197,
   "id": "120c914e-7a02-47eb-ac38-3f1cf6e6ec49",
   "metadata": {},
   "outputs": [
    {
     "data": {
      "text/plain": [
       "datetime.date(2023, 1, 12)"
      ]
     },
     "execution_count": 197,
     "metadata": {},
     "output_type": "execute_result"
    }
   ],
   "source": [
    "# kolejna metoda statyczna tej klasy\n",
    "datetime.date.fromisoformat('2023-01-12')"
   ]
  },
  {
   "cell_type": "markdown",
   "id": "3e22c664-9ee4-468e-a2c2-49da60a2bd87",
   "metadata": {},
   "source": [
    "O formacie ISO 8601: https://en.wikipedia.org/wiki/ISO_8601"
   ]
  },
  {
   "cell_type": "code",
   "execution_count": 199,
   "id": "44aeab8d-cb9d-4563-8db5-a5865df31351",
   "metadata": {},
   "outputs": [
    {
     "data": {
      "text/plain": [
       "datetime.date(2023, 1, 12)"
      ]
     },
     "execution_count": 199,
     "metadata": {},
     "output_type": "execute_result"
    }
   ],
   "source": [
    "datetime.date.fromisoformat('20230112')"
   ]
  },
  {
   "cell_type": "code",
   "execution_count": 205,
   "id": "809d39bc-3f20-4907-8ad4-a46520593fbb",
   "metadata": {},
   "outputs": [
    {
     "name": "stdout",
     "output_type": "stream",
     "text": [
      "1\n",
      "2\n",
      "datetime.IsoCalendarDate(year=2025, week=20, weekday=2)\n",
      "2025-05-13\n",
      "Tue May 13 00:00:00 2025\n"
     ]
    }
   ],
   "source": [
    "# inne funkcje tej klasy\n",
    "data = datetime.date.today()\n",
    "\n",
    "print(data.weekday())\n",
    "print(data.isoweekday())\n",
    "print(data.isocalendar())\n",
    "print(data.isoformat())\n",
    "print(data.ctime())"
   ]
  },
  {
   "cell_type": "markdown",
   "id": "1082d590-e6d0-48bc-bcf4-8837cb0ef5c2",
   "metadata": {},
   "source": [
    "**Obiekt typu `datetime`**"
   ]
  },
  {
   "cell_type": "markdown",
   "id": "4f6d706b-060e-4ae8-a93c-043f0ecb8b88",
   "metadata": {},
   "source": [
    "Sygnatura: class datetime.datetime(year, month, day, hour=0, minute=0, second=0, microsecond=0, tzinfo=None, *, fold=0)"
   ]
  },
  {
   "cell_type": "code",
   "execution_count": 207,
   "id": "f4b39112-1b44-4ceb-b7ba-3775dc09cd64",
   "metadata": {},
   "outputs": [
    {
     "data": {
      "text/plain": [
       "datetime.datetime(2025, 5, 13, 12, 31, 43, 986635)"
      ]
     },
     "execution_count": 207,
     "metadata": {},
     "output_type": "execute_result"
    }
   ],
   "source": [
    "now = datetime.datetime.today()\n",
    "now"
   ]
  },
  {
   "cell_type": "code",
   "execution_count": 209,
   "id": "d8dfd531-32f7-4631-b7e7-47816cabbb05",
   "metadata": {},
   "outputs": [
    {
     "data": {
      "text/plain": [
       "datetime.datetime(2025, 5, 13, 12, 32, 39, 890781)"
      ]
     },
     "execution_count": 209,
     "metadata": {},
     "output_type": "execute_result"
    }
   ],
   "source": [
    "datetime.datetime.now()"
   ]
  },
  {
   "cell_type": "code",
   "execution_count": null,
   "id": "71665f6e-8765-490a-b040-e379f8fa32cf",
   "metadata": {},
   "outputs": [],
   "source": [
    "# lista wszystkich dostępnych nazw stref czasowych\n",
    "import pytz\n",
    "\n",
    "print('Timezones')\n",
    "for timeZone in pytz.all_timezones:\n",
    "    print(timeZone)"
   ]
  },
  {
   "cell_type": "code",
   "execution_count": 227,
   "id": "17973b11-aaa1-413c-9000-efd17bb1bddc",
   "metadata": {},
   "outputs": [
    {
     "data": {
      "text/plain": [
       "datetime.datetime(2025, 5, 13, 3, 45, 19, 890703, tzinfo=zoneinfo.ZoneInfo(key='America/Los_Angeles'))"
      ]
     },
     "execution_count": 227,
     "metadata": {},
     "output_type": "execute_result"
    }
   ],
   "source": [
    "from zoneinfo import ZoneInfo\n",
    "\n",
    "# jaki aktualnie czas w Los Angeles?\n",
    "datetime.datetime.now(ZoneInfo(\"America/Los_Angeles\"))"
   ]
  },
  {
   "cell_type": "markdown",
   "id": "2438c81b-366b-438b-96ff-91a5cde7478b",
   "metadata": {},
   "source": [
    "Kolejne bardzo przydatne funkcje związane z obsługą daty i czasu to możliwość konwersji z danego formatu.\n",
    "\n",
    "```\n",
    "datetime.strptime(date_string, format)\n",
    "```\n",
    "\n",
    "Formaty zapisu są dostępne w tabeli w dokumentacji modułu datetime pod adresem: https://docs.python.org/3/library/datetime.html#format-codes"
   ]
  },
  {
   "cell_type": "code",
   "execution_count": 230,
   "id": "f1caf161-7dfe-479c-9e8f-9825fd3d7ccd",
   "metadata": {},
   "outputs": [
    {
     "data": {
      "text/plain": [
       "datetime.datetime(2024, 2, 3, 0, 0)"
      ]
     },
     "execution_count": 230,
     "metadata": {},
     "output_type": "execute_result"
    }
   ],
   "source": [
    "datetime.datetime.strptime('2024/02/03', \"%Y/%m/%d\")"
   ]
  },
  {
   "cell_type": "code",
   "execution_count": 234,
   "id": "117aee43-0c70-4178-83c0-8e7873c0f003",
   "metadata": {},
   "outputs": [
    {
     "data": {
      "text/plain": [
       "datetime.datetime(2024, 2, 3, 0, 0)"
      ]
     },
     "execution_count": 234,
     "metadata": {},
     "output_type": "execute_result"
    }
   ],
   "source": [
    "datetime.datetime.strptime('24/2/3', \"%y/%m/%d\")"
   ]
  },
  {
   "cell_type": "code",
   "execution_count": 237,
   "id": "06c56483-899b-4187-a393-cb84800e4553",
   "metadata": {},
   "outputs": [
    {
     "data": {
      "text/plain": [
       "1735686000.0"
      ]
     },
     "execution_count": 237,
     "metadata": {},
     "output_type": "execute_result"
    }
   ],
   "source": [
    "start_of_this_year = datetime.datetime(2025, 1, 1)\n",
    "start_of_this_year.timestamp()"
   ]
  },
  {
   "cell_type": "code",
   "execution_count": 239,
   "id": "27a4f86e-c9a4-4205-9d23-34019bfd2fcf",
   "metadata": {},
   "outputs": [
    {
     "data": {
      "text/plain": [
       "datetime.datetime(2020, 1, 1, 0, 0)"
      ]
     },
     "execution_count": 239,
     "metadata": {},
     "output_type": "execute_result"
    }
   ],
   "source": [
    "# możemy podmienić dowolna składową daty i czasu\n",
    "start_of_this_year.replace(year=2020)"
   ]
  },
  {
   "cell_type": "code",
   "execution_count": 240,
   "id": "bbc924ed-86b4-4d4b-bd4a-6bb01f1e9701",
   "metadata": {},
   "outputs": [
    {
     "data": {
      "text/plain": [
       "'2025-01-01T00:00:00'"
      ]
     },
     "execution_count": 240,
     "metadata": {},
     "output_type": "execute_result"
    }
   ],
   "source": [
    "start_of_this_year.isoformat()"
   ]
  },
  {
   "cell_type": "markdown",
   "id": "40fa6994-189a-40c2-8db5-5b7caca808c5",
   "metadata": {},
   "source": [
    "## Zadania"
   ]
  },
  {
   "cell_type": "markdown",
   "id": "f1772045-38d5-4400-bf29-c68b3e3d45ae",
   "metadata": {},
   "source": [
    "**Zadanie 1**  \n",
    "Zmierz czas operacji zapisu i ładowania danych z tablicy i listy z listingu 3. Użyj do tego modułu `datetime`. Wnioski ?"
   ]
  },
  {
   "cell_type": "code",
   "execution_count": 3,
   "id": "66167f06-9b3b-4d4f-aaaf-b38dd2bd32fd",
   "metadata": {},
   "outputs": [
    {
     "name": "stdout",
     "output_type": "stream",
     "text": [
      "Witaj! Na dzień dzisiejszy masz 23 lat oraz 336 dni.\n",
      "Razem daje to imponujące 8741 dni!\n",
      "Twoje najbliższe urodziny będą miały miejsce w dniu 2025-06-29 czyli za 0 miesięcy oraz 25 dni.\n",
      "Od poprzednich urodzin minęło 11 miesięcy i 6 dni.\n",
      "None\n"
     ]
    }
   ],
   "source": [
    "from timeit import timeit\n",
    "from datetime import datetime\n",
    "from dateutil.relativedelta import relativedelta\n",
    "def powitanie_z_wiekiem(birthday_date_str):\n",
    "    birthday_date = datetime.strptime(birthday_date_str, \"%Y-%m-%d\").date()\n",
    "    now = datetime.today().date()\n",
    "\n",
    "    # Obliczenia wieku\n",
    "    how_old = relativedelta(now, birthday_date)\n",
    "    days_from_birth = (now - birthday_date).days\n",
    "\n",
    "    # Najbliższe urodziny\n",
    "    this_year_birthday = birthday_date.replace(year=now.year)\n",
    "    if this_year_birthday < now:\n",
    "        next_birthday = this_year_birthday.replace(year=now.year + 1)\n",
    "    else:\n",
    "        next_birthday = this_year_birthday\n",
    "    to_nearest_birthday = relativedelta(next_birthday, now)\n",
    "\n",
    "    # Poprzednie urodziny\n",
    "    if this_year_birthday > now:\n",
    "        previous_birthday = this_year_birthday.replace(year=now.year - 1)\n",
    "    else:\n",
    "        previous_birthday = this_year_birthday\n",
    "    od_poprzednich = relativedelta(now, previous_birthday)\n",
    "\n",
    "    print(f\"Witaj! Na dzień dzisiejszy masz {how_old.years} lat oraz {how_old.months * 30 + how_old.days} dni.\")\n",
    "    print(f\"Razem daje to imponujące {days_from_birth} dni!\")\n",
    "    print(f\"Twoje najbliższe urodziny będą miały miejsce w dniu {next_birthday} \"\n",
    "          f\"czyli za {to_nearest_birthday.months} miesięcy oraz {to_nearest_birthday.days} dni.\")\n",
    "    print(f\"Od poprzednich urodzin minęło {od_poprzednich.months} miesięcy i {od_poprzednich.days} dni.\")\n",
    "\n",
    "print(powitanie_z_wiekiem(\"2001-06-29\"))"
   ]
  },
  {
   "cell_type": "markdown",
   "id": "ad1dbd31-d61d-4678-b686-2f37ddf466cf",
   "metadata": {},
   "source": [
    "**Zadanie 2**   \n",
    "Napisz funkcję, która przyjmuje datę urodzenia w postaci łańcucha znaków,a wyświetla na wyjściu komunikat:\n",
    "\n",
    "Witaj! Na dzień dzisiejszy masz {tu wiek w latach} lat oraz {tu dodatkowo dni} dni. Razem daje to imponujące {tu dni od narodzin} dni!. Twoje najbliższe urodziny będą miały miejsce w dniu {tu data} czyli za {liczba miesięcy} miesięcy oraz {dodatkowo liczba dni} dni. Od poprzednich urodziny minęło {liczba miesięcy} miesięcy i {liczba dni} dni. "
   ]
  },
  {
   "cell_type": "code",
   "execution_count": 4,
   "id": "329e6e69-769f-4ffd-b35e-f9aec0ea3da4",
   "metadata": {},
   "outputs": [
    {
     "name": "stdout",
     "output_type": "stream",
     "text": [
      "Witaj! Na dzień dzisiejszy masz 23 lat oraz 336 dni.\n",
      "Razem daje to imponujące 8741 dni!\n",
      "Twoje najbliższe urodziny będą miały miejsce w dniu 2025-06-29 czyli za 0 miesięcy oraz 25 dni.\n",
      "Od poprzednich urodzin minęło 11 miesięcy i 6 dni.\n",
      "None\n"
     ]
    }
   ],
   "source": [
    "from timeit import timeit\n",
    "from datetime import datetime\n",
    "from dateutil.relativedelta import relativedelta\n",
    "def powitanie_z_wiekiem(birthday_date_str):\n",
    "    birthday_date = datetime.strptime(birthday_date_str, \"%Y-%m-%d\").date()\n",
    "    now = datetime.today().date()\n",
    "\n",
    "    # Obliczenia wieku\n",
    "    how_old = relativedelta(now, birthday_date)\n",
    "    days_from_birth = (now - birthday_date).days\n",
    "\n",
    "    # Najbliższe urodziny\n",
    "    this_year_birthday = birthday_date.replace(year=now.year)\n",
    "    if this_year_birthday < now:\n",
    "        next_birthday = this_year_birthday.replace(year=now.year + 1)\n",
    "    else:\n",
    "        next_birthday = this_year_birthday\n",
    "    to_nearest_birthday = relativedelta(next_birthday, now)\n",
    "\n",
    "    # Poprzednie urodziny\n",
    "    if this_year_birthday > now:\n",
    "        previous_birthday = this_year_birthday.replace(year=now.year - 1)\n",
    "    else:\n",
    "        previous_birthday = this_year_birthday\n",
    "    od_poprzednich = relativedelta(now, previous_birthday)\n",
    "\n",
    "    print(f\"Witaj! Na dzień dzisiejszy masz {how_old.years} lat oraz {how_old.months * 30 + how_old.days} dni.\")\n",
    "    print(f\"Razem daje to imponujące {days_from_birth} dni!\")\n",
    "    print(f\"Twoje najbliższe urodziny będą miały miejsce w dniu {next_birthday} \"\n",
    "          f\"czyli za {to_nearest_birthday.months} miesięcy oraz {to_nearest_birthday.days} dni.\")\n",
    "    print(f\"Od poprzednich urodzin minęło {od_poprzednich.months} miesięcy i {od_poprzednich.days} dni.\")\n",
    "\n",
    "print(powitanie_z_wiekiem(\"2001-06-29\"))"
   ]
  },
  {
   "cell_type": "markdown",
   "id": "a47a5fce-d01e-4cab-9248-7669c735d3b8",
   "metadata": {},
   "source": [
    "**Zadanie 3**\n",
    "\n",
    "W lab_02 znajduje się plik zamowienia.csv. Wczytaj ten plik (ale bez biblioteki pandas), a następnie zamień wszystkie wartości w kolumnie `Data zamowienia` na obiekt typu `datetime.date` i wyświetl:\n",
    "* najstarszą datę,\n",
    "* najnowszą datę,\n",
    "* różnicę w dniach między najstarszą i najnowszą datą"
   ]
  },
  {
   "cell_type": "code",
   "execution_count": 5,
   "id": "036cc5f5-50df-489f-8f39-bbb5479c7ef3",
   "metadata": {},
   "outputs": [
    {
     "ename": "FileNotFoundError",
     "evalue": "[Errno 2] No such file or directory: '../lab_02/dataset/zamowienia.csv'",
     "output_type": "error",
     "traceback": [
      "\u001b[31m---------------------------------------------------------------------------\u001b[39m",
      "\u001b[31mFileNotFoundError\u001b[39m                         Traceback (most recent call last)",
      "\u001b[36mCell\u001b[39m\u001b[36m \u001b[39m\u001b[32mIn[5]\u001b[39m\u001b[32m, line 4\u001b[39m\n\u001b[32m      1\u001b[39m path = \u001b[33m'\u001b[39m\u001b[33m../lab_02/dataset/zamowienia.csv\u001b[39m\u001b[33m'\u001b[39m\n\u001b[32m      2\u001b[39m dates = []\n\u001b[32m----> \u001b[39m\u001b[32m4\u001b[39m \u001b[38;5;28;01mwith\u001b[39;00m \u001b[38;5;28;43mopen\u001b[39;49m\u001b[43m(\u001b[49m\u001b[43mpath\u001b[49m\u001b[43m,\u001b[49m\u001b[43m \u001b[49m\u001b[43mencoding\u001b[49m\u001b[43m=\u001b[49m\u001b[33;43m'\u001b[39;49m\u001b[33;43mutf-8\u001b[39;49m\u001b[33;43m'\u001b[39;49m\u001b[43m)\u001b[49m \u001b[38;5;28;01mas\u001b[39;00m file:\n\u001b[32m      5\u001b[39m     reader = csv.DictReader(file)\n\u001b[32m      6\u001b[39m     \u001b[38;5;28;01mfor\u001b[39;00m row \u001b[38;5;129;01min\u001b[39;00m reader:\n",
      "\u001b[36mFile \u001b[39m\u001b[32m~\\Desktop\\Code Library\\Semestr VIII\\Python\\Laboratories\\.venv\\Lib\\site-packages\\IPython\\core\\interactiveshell.py:325\u001b[39m, in \u001b[36m_modified_open\u001b[39m\u001b[34m(file, *args, **kwargs)\u001b[39m\n\u001b[32m    318\u001b[39m \u001b[38;5;28;01mif\u001b[39;00m file \u001b[38;5;129;01min\u001b[39;00m {\u001b[32m0\u001b[39m, \u001b[32m1\u001b[39m, \u001b[32m2\u001b[39m}:\n\u001b[32m    319\u001b[39m     \u001b[38;5;28;01mraise\u001b[39;00m \u001b[38;5;167;01mValueError\u001b[39;00m(\n\u001b[32m    320\u001b[39m         \u001b[33mf\u001b[39m\u001b[33m\"\u001b[39m\u001b[33mIPython won\u001b[39m\u001b[33m'\u001b[39m\u001b[33mt let you open fd=\u001b[39m\u001b[38;5;132;01m{\u001b[39;00mfile\u001b[38;5;132;01m}\u001b[39;00m\u001b[33m by default \u001b[39m\u001b[33m\"\u001b[39m\n\u001b[32m    321\u001b[39m         \u001b[33m\"\u001b[39m\u001b[33mas it is likely to crash IPython. If you know what you are doing, \u001b[39m\u001b[33m\"\u001b[39m\n\u001b[32m    322\u001b[39m         \u001b[33m\"\u001b[39m\u001b[33myou can use builtins\u001b[39m\u001b[33m'\u001b[39m\u001b[33m open.\u001b[39m\u001b[33m\"\u001b[39m\n\u001b[32m    323\u001b[39m     )\n\u001b[32m--> \u001b[39m\u001b[32m325\u001b[39m \u001b[38;5;28;01mreturn\u001b[39;00m \u001b[43mio_open\u001b[49m\u001b[43m(\u001b[49m\u001b[43mfile\u001b[49m\u001b[43m,\u001b[49m\u001b[43m \u001b[49m\u001b[43m*\u001b[49m\u001b[43margs\u001b[49m\u001b[43m,\u001b[49m\u001b[43m \u001b[49m\u001b[43m*\u001b[49m\u001b[43m*\u001b[49m\u001b[43mkwargs\u001b[49m\u001b[43m)\u001b[49m\n",
      "\u001b[31mFileNotFoundError\u001b[39m: [Errno 2] No such file or directory: '../lab_02/dataset/zamowienia.csv'"
     ]
    }
   ],
   "source": [
    "path = '../lab_02/dataset/zamowienia.csv'\n",
    "dates = []\n",
    "\n",
    "with open(path, encoding='utf-8') as file:\n",
    "    reader = csv.DictReader(file)\n",
    "    for row in reader:\n",
    "        date_str = row[\"Data zamowienia\"]\n",
    "        date = datetime.strptime(date_str, '%Y-%m-%d').date()\n",
    "        dates.append(date)\n",
    "oldest = min(dates)\n",
    "newest = max(dates)\n",
    "difference = (oldest - newest).days\n",
    "\n",
    "print(\"Oldest date:\", oldest)\n",
    "print(\"Newest date:\", newest)\n",
    "print(\"Difference in days:\", difference)"
   ]
  },
  {
   "cell_type": "code",
   "execution_count": null,
   "id": "48015f63-cba6-4578-bc1a-58d6d8bf654c",
   "metadata": {},
   "outputs": [],
   "source": []
  }
 ],
 "metadata": {
  "kernelspec": {
   "display_name": "Python 3 (ipykernel)",
   "language": "python",
   "name": "python3"
  },
  "language_info": {
   "codemirror_mode": {
    "name": "ipython",
    "version": 3
   },
   "file_extension": ".py",
   "mimetype": "text/x-python",
   "name": "python",
   "nbconvert_exporter": "python",
   "pygments_lexer": "ipython3",
   "version": "3.12.7"
  }
 },
 "nbformat": 4,
 "nbformat_minor": 5
}
