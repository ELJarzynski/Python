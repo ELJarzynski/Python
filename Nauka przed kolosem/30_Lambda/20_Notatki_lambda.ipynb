{
 "cells": [
  {
   "cell_type": "code",
   "execution_count": null,
   "id": "c028adb3-cae1-4bce-985b-6d1f2488bfba",
   "metadata": {},
   "outputs": [],
   "source": []
  },
  {
   "cell_type": "code",
   "execution_count": 16,
   "id": "bc29181f-4416-4b45-974d-1485acf279d3",
   "metadata": {},
   "outputs": [
    {
     "name": "stdout",
     "output_type": "stream",
     "text": [
      "4\n"
     ]
    }
   ],
   "source": [
    "# Zadanie 1  Wykorzystując funkcję reduce napisz funkcję anonimową, która będzie zliczała ilość samogłosek w podanym jej jako argument tekście. \n",
    "# Dla testów możesz przypisać tę lambdę do zmiennej.\n",
    "from functools import reduce\n",
    "text = \"BMW Bóg Mnie Wybrał.\"\n",
    "vowel  = \"aeiouyąę\"\n",
    "\n",
    "as_1 = reduce(lambda x, y: x + (1 if y in vowel else 0), text, 0)\n",
    "print(as_1)"
   ]
  },
  {
   "cell_type": "code",
   "execution_count": 17,
   "id": "35bb5809-27ba-4709-9e64-b1a65ea4716c",
   "metadata": {},
   "outputs": [
    {
     "name": "stdout",
     "output_type": "stream",
     "text": [
      "[('Wojtek', 'Bonk', '8'), ('Adam', 'Nowak', '13'), ('Anna', 'Górka', '15')]\n"
     ]
    }
   ],
   "source": [
    "# Zadanie 2 Wykorzystując funkcję sorted oraz lambdę posortuj poniższe krotki po wartości punktowej (należy wyciągnąć ilość punktów z tego tekstu\n",
    "# ('13 pkt' -> 13) w każdej z nich.\n",
    "points_list = [('Adam', 'Nowak', '13 pkt'), ('Anna','Górka', '15 pkt'), ('Wojtek', 'Bonk', '8 pkt')]\n",
    "as_2 = sorted(\n",
    "    [(name, surname, c.split()[0]) for name, surname, c in points_list],\n",
    "    key=lambda x: int(x[2])\n",
    ")\n",
    "print(as_2)"
   ]
  },
  {
   "cell_type": "code",
   "execution_count": null,
   "id": "fff33b77-4d02-483c-9109-6063baf29187",
   "metadata": {},
   "outputs": [],
   "source": [
    "# DODATKOWE ZADANIA"
   ]
  },
  {
   "cell_type": "code",
   "execution_count": 2,
   "id": "f8c476e9-2f1e-491d-88e3-ea6a8b2d8b96",
   "metadata": {},
   "outputs": [
    {
     "name": "stdout",
     "output_type": "stream",
     "text": [
      "[7, 14, 21, 28, 42, 49, 56, 63, 77, 84, 91, 98]\n"
     ]
    }
   ],
   "source": [
    "# Zadanie 1: Filtruj liczby podzielne przez 7, ale nie przez 5\n",
    "numbers = list(range(1,101))\n",
    "filtered_1 = list(filter(lambda x: x % 7 == 0 and x % 5 != 0,numbers))\n",
    "print(filtered_1)"
   ]
  },
  {
   "cell_type": "code",
   "execution_count": 3,
   "id": "72393d26-a83c-4a62-8a23-4650dc35a3a8",
   "metadata": {},
   "outputs": [
    {
     "name": "stdout",
     "output_type": "stream",
     "text": [
      "[4, 16, 36, 64, 100, 144, 196, 256, 324, 400]\n"
     ]
    }
   ],
   "source": [
    "# Zadanie 2: Oblicz kwadraty tylko liczb parzystych\n",
    "numbers = list(range(1,21))\n",
    "nums = list(filter(lambda x: x%2 != 1, numbers))\n",
    "as_2 = list(map(lambda x: x**2, nums))\n",
    "print(as_2)"
   ]
  },
  {
   "cell_type": "code",
   "execution_count": 4,
   "id": "0bf88696-7487-4735-b863-b11ab727c675",
   "metadata": {},
   "outputs": [
    {
     "name": "stdout",
     "output_type": "stream",
     "text": [
      "[7, 9, 10, 6, 15, 8, 12]\n"
     ]
    }
   ],
   "source": [
    "# Zadanie 3: Posortuj liczby według liczby dzielników\n",
    "numbers = [10, 7, 6, 9, 15, 8, 12]\n",
    "as_3 = sorted(numbers, key=lambda x: len([i for i in range(1, x + 1) if x % i == 0]))\n",
    "print(as_3)"
   ]
  },
  {
   "cell_type": "code",
   "execution_count": 6,
   "id": "2cd2eb62-23b4-4017-8a72-3eda6f474c90",
   "metadata": {},
   "outputs": [
    {
     "name": "stdout",
     "output_type": "stream",
     "text": [
      "[2, 3]\n"
     ]
    }
   ],
   "source": [
    "# Zadanie 4: Usuń z listy liczby, które są wielokrotnością jakiejkolwiek innej liczby w liście\n",
    "numbers = [2, 3, 4, 6, 9, 12, 15]\n",
    "as_4 = list(filter(\n",
    "    lambda x: not any((x != y and x % y == 0) for y in numbers),\n",
    "    numbers\n",
    "))\n",
    "print(as_4)"
   ]
  },
  {
   "cell_type": "code",
   "execution_count": 7,
   "id": "1f00c72a-7cf6-4441-9839-6e60f3144817",
   "metadata": {},
   "outputs": [
    {
     "name": "stdout",
     "output_type": "stream",
     "text": [
      "[49, 51, 55, 40, 60, 10, 100]\n"
     ]
    }
   ],
   "source": [
    "# Zadanie 5: Posortuj liczby według odległości od liczby 50\n",
    "numbers = [10, 40, 55, 60, 49, 51, 100]\n",
    "as_5 = sorted(numbers, key=lambda x: abs(x- 50))\n",
    "print(as_5)"
   ]
  },
  {
   "cell_type": "code",
   "execution_count": 8,
   "id": "4ed1adc2-41a4-4d9a-b93d-99f221383857",
   "metadata": {},
   "outputs": [
    {
     "name": "stdout",
     "output_type": "stream",
     "text": [
      "[6, 15, 24, 2]\n"
     ]
    }
   ],
   "source": [
    "# Zadanie 6: Suma cyfr każdej liczby\n",
    "numbers = [123, 456, 789, 1010]\n",
    "as_6 = list(map(lambda x: sum(int(y) for y in str(x)), numbers))\n",
    "print(as_6)"
   ]
  },
  {
   "cell_type": "code",
   "execution_count": null,
   "id": "e9804c01-5f60-4689-b5e2-5a699d802529",
   "metadata": {},
   "outputs": [],
   "source": [
    "# Zadanie 7: Filtruj liczby, które są liczbami doskonałymi\n",
    "numbers = range(2,1001)\n",
    "as_7 = list(\n",
    "    filter(\n",
    "            lambda x: x==sum(i for i in range (1, x) if x % i == 0) , numbers)\n",
    ")\n",
    "print(as_7)"
   ]
  },
  {
   "cell_type": "code",
   "execution_count": 10,
   "id": "01eb268f-e5a0-47ab-bff0-42d665b8ed30",
   "metadata": {},
   "outputs": [
    {
     "name": "stdout",
     "output_type": "stream",
     "text": [
      "[(0, 123), (1, 456), (2, 789), (3, 1010)]\n",
      "[1, 456, 622521, 1030301000]\n"
     ]
    }
   ],
   "source": [
    "# Zadanie 8 Podnieś każdą liczbę w liście do potęgi jej indeksu\n",
    "print(list(enumerate(numbers)))\n",
    "as_8 = list(map(lambda x:x[1] ** x[0], list(enumerate(numbers))))\n",
    "print(as_8)"
   ]
  },
  {
   "cell_type": "code",
   "execution_count": 11,
   "id": "9b99caad-483d-42f7-86c9-34fbc32dc86f",
   "metadata": {},
   "outputs": [
    {
     "name": "stdout",
     "output_type": "stream",
     "text": [
      "['pies']\n"
     ]
    }
   ],
   "source": [
    "# Zadanie 9 z listy stringów wybierz te, które mają parzystą długość\n",
    "lista_zwierz = [\"kot\", \"pies\", \"lew\", \"krowa\"]\n",
    "as_9 = list(filter(lambda x: len(x) % 2 == 0, lista_zwierz))\n",
    "print(as_9)"
   ]
  },
  {
   "cell_type": "code",
   "execution_count": null,
   "id": "b4cf0f6f-daa1-43bc-ae20-294124649555",
   "metadata": {},
   "outputs": [],
   "source": [
    "# Zadanie 10 z listy stringów posortuj według ilości samogłosek te, które mają parzystą długość\n",
    "gloski = [\"aaa\", \"kotaaaa\", \"król\", \"ouai\"]\n",
    "as_10 = sorted(gloski, key=lambda x: sum(1 for i in x if i in ('a','e','i','o','u', 'ó','y')))\n",
    "print(as_10)"
   ]
  }
 ],
 "metadata": {
  "kernelspec": {
   "display_name": "Python 3 (ipykernel)",
   "language": "python",
   "name": "python3"
  },
  "language_info": {
   "codemirror_mode": {
    "name": "ipython",
    "version": 3
   },
   "file_extension": ".py",
   "mimetype": "text/x-python",
   "name": "python",
   "nbconvert_exporter": "python",
   "pygments_lexer": "ipython3",
   "version": "3.12.7"
  }
 },
 "nbformat": 4,
 "nbformat_minor": 5
}
