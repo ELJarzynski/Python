{
 "cells": [
  {
   "cell_type": "markdown",
   "id": "d70e72e1-1867-4025-8b5e-5f95edd59ebb",
   "metadata": {},
   "source": [
    "## Lab 7. Funkcje anonimowe w Pythonie oraz moduł itertools"
   ]
  },
  {
   "cell_type": "markdown",
   "id": "5da63170-e7f5-408b-bc1d-31c78a5e895b",
   "metadata": {},
   "source": [
    "Funkcje anonimowe lambda opierają się o rachunek lambda opracowany przez  Alonzo Churcha w 1930 roku. \n",
    "\n",
    "> źródła:\n",
    "> * https://pl.wikipedia.org/wiki/Rachunek_lambda\n",
    "> * https://en.wikipedia.org/wiki/Lambda_calculus\n",
    "\n",
    "Funkcje anonimowe (lambda) to funkcja, której deklaracja nie posiada referencji (ale możemy ją nadać), której moglibyśmy użyć aby się do niej odwołać. Używamy jej wtedy kiedy potrzebne nam zazwyczaj dość proste wyrażenie, którym chcemy np. przetworzyć jakiś zbiór wartości, a nie mamy do dyspozycji odpowiedniej funkcji w dostępnych bibliotekach lub jest to systuacja jednorazowa i nie ma większego sensu deklarowanie nowej funkcji w module."
   ]
  },
  {
   "cell_type": "markdown",
   "id": "c4006a12-f69b-4fbb-8ec9-652a61794916",
   "metadata": {},
   "source": [
    "## 1. Przykłady wykorzystania funkcji anonimowych"
   ]
  },
  {
   "cell_type": "code",
   "execution_count": 24,
   "id": "20f7a326-65e7-4e83-9c71-c2b7270c26bb",
   "metadata": {},
   "outputs": [
    {
     "data": {
      "text/plain": [
       "[5, 6, 6, 10]"
      ]
     },
     "execution_count": 24,
     "metadata": {},
     "output_type": "execute_result"
    }
   ],
   "source": [
    "# przykład 1\n",
    "# wbudowana funkcja map, mapuje podaną funkcję na dany obiekt iterowalny\n",
    "# możemy oczywiście zrealizować taki scenariusz na wiele innych sposobów, np. poprzez listy składane (Python comprehensions)\n",
    "\n",
    "names = ['marek', 'Damian', 'wojtas', 'maczuga333']\n",
    "list(map(lambda x: len(x), names))"
   ]
  },
  {
   "cell_type": "code",
   "execution_count": 25,
   "id": "9ac114ee-24b7-49b8-b4de-c15ced032e9c",
   "metadata": {},
   "outputs": [
    {
     "name": "stdout",
     "output_type": "stream",
     "text": [
      "5\n",
      "6\n",
      "6\n",
      "10\n"
     ]
    }
   ],
   "source": [
    "# równoważne z powyższą funkcją anonimową\n",
    "def costam(x):\n",
    "    return len(x)\n",
    "\n",
    "for elem in names:\n",
    "    print(costam(elem))"
   ]
  },
  {
   "cell_type": "code",
   "execution_count": 4,
   "id": "6daf181c-9e1c-4152-8ea8-f49721d1847a",
   "metadata": {},
   "outputs": [
    {
     "data": {
      "text/plain": [
       "4"
      ]
     },
     "execution_count": 4,
     "metadata": {},
     "output_type": "execute_result"
    }
   ],
   "source": [
    "# przykład 2\n",
    "# lambdę możemy przypisać do zmiennej, dzięki czemu będzie można się do niej odwoływać\n",
    "\n",
    "mypow = lambda x: x ** 2\n",
    "mypow(2)"
   ]
  },
  {
   "cell_type": "code",
   "execution_count": 5,
   "id": "43eb758f-c92a-4471-b87e-d87b550750b9",
   "metadata": {},
   "outputs": [
    {
     "data": {
      "text/plain": [
       "25"
      ]
     },
     "execution_count": 5,
     "metadata": {},
     "output_type": "execute_result"
    }
   ],
   "source": [
    "# przykład 3\n",
    "# możemy również wywołać ją w taki sposób\n",
    "num = 5\n",
    "\n",
    "(lambda x: x ** 2)(num)"
   ]
  },
  {
   "cell_type": "code",
   "execution_count": 8,
   "id": "5143d358-3f92-47c1-9266-24bd5c5d92b2",
   "metadata": {},
   "outputs": [
    {
     "data": {
      "text/plain": [
       "5"
      ]
     },
     "execution_count": 8,
     "metadata": {},
     "output_type": "execute_result"
    }
   ],
   "source": [
    "# przykład 4\n",
    "# lambdy nie muszą być jednoargumentowe\n",
    "\n",
    "(lambda x, y: x + y)(2, 3)"
   ]
  },
  {
   "cell_type": "code",
   "execution_count": 9,
   "id": "ee2015d4-088e-4d20-8d31-bd103de3c6c9",
   "metadata": {},
   "outputs": [
    {
     "ename": "SyntaxError",
     "evalue": "invalid syntax (639836529.py, line 4)",
     "output_type": "error",
     "traceback": [
      "\u001b[1;36m  Cell \u001b[1;32mIn[9], line 4\u001b[1;36m\u001b[0m\n\u001b[1;33m    lambda x: assert x in list(range(1,11))\u001b[0m\n\u001b[1;37m              ^\u001b[0m\n\u001b[1;31mSyntaxError\u001b[0m\u001b[1;31m:\u001b[0m invalid syntax\n"
     ]
    }
   ],
   "source": [
    "# przykład 5\n",
    "# w funkcjach anonimowych nie możemy wykorzystać żadnych wyrażeń typu return, pass, assert, \n",
    "# raise, pętli oraz wskazówek typów i jeżeli to zrobimy to zgłoszony zostanie wyjątek SyntaxError\n",
    "lambda x: assert x in list(range(1,11))"
   ]
  },
  {
   "cell_type": "code",
   "execution_count": 10,
   "id": "f26326aa-dffa-458c-bed0-ed83567b934e",
   "metadata": {},
   "outputs": [
    {
     "data": {
      "text/plain": [
       "['34', '182', '44']"
      ]
     },
     "execution_count": 10,
     "metadata": {},
     "output_type": "execute_result"
    }
   ],
   "source": [
    "# przykład 6\n",
    "# kolejnym powszechnym przykładem wykorzystania funkcji anonimowej jest połączenie\n",
    "# jej z wbudowaną funkcją filter(), która pozwala przekazać funkcję filtrującą oraz obiekt\n",
    "# iterowalny, do którego elementów filtr zostanie przyłożony, a następnie zwraca iterator\n",
    "data = 'Marek ma 34 lata i 182 cm wzrostu o numerze buta 44 .'.split()\n",
    "\n",
    "list(filter(lambda x: x.isdigit(), data))\n",
    "\n",
    "# tutaj można się chwilę zatrzymać, aby zrozumieć jak ta lambda działa\n",
    "# w każdym jej wywołaniu przekazywany jest element ze zbioru data do zmiennej x\n",
    "# jeżeli x.isdigit() to True w przeciwnym wypadku False\n",
    "# filter mapuje wartości False i True na data i zwraca tylko te gdzie dla danego indeksu jest True"
   ]
  },
  {
   "cell_type": "code",
   "execution_count": 14,
   "id": "6fdf10f8-ab64-4a41-874d-71fc52e5ee5a",
   "metadata": {},
   "outputs": [
    {
     "data": {
      "text/plain": [
       "'3418244'"
      ]
     },
     "execution_count": 14,
     "metadata": {},
     "output_type": "execute_result"
    }
   ],
   "source": [
    "# przykład 7\n",
    "# również funkcja reduce jest dość często wykorzystywana w połączeniu z lambdami\n",
    "# obecnie znajduje się w module functools\n",
    "# https://docs.python.org/3/library/functools.html#functools.reduce\n",
    "from functools import reduce\n",
    "\n",
    "# poniższy przykład działa jako konkatenacja odnalezionych cyfr\n",
    "reduce(lambda x, y: x + y, filter(lambda x: x.isdigit(), data))"
   ]
  },
  {
   "cell_type": "code",
   "execution_count": 177,
   "id": "fe1ac1bc-c9f3-4319-b8ad-47429a85abb0",
   "metadata": {},
   "outputs": [
    {
     "name": "stdout",
     "output_type": "stream",
     "text": [
      "260\n"
     ]
    },
    {
     "data": {
      "text/plain": [
       "260"
      ]
     },
     "execution_count": 177,
     "metadata": {},
     "output_type": "execute_result"
    }
   ],
   "source": [
    "# przykład 8\n",
    "# teraz chcemy te wszystkie liczby zsumować, dorzucamy map i rzutowanie na typ int\n",
    "\n",
    "print(reduce(lambda x, y: x + y, map(int, filter(lambda x: x.isdigit(), data))))\n",
    "\n",
    "# wszystko w Pythonie jest obiektem, również mamy operatory w postaci stosownych obiektów funkcji\n",
    "from operator import add\n",
    "\n",
    "# efekt ten sam jak powyżej\n",
    "reduce(add, map(int, filter(lambda x: x.isdigit(), data)))"
   ]
  },
  {
   "cell_type": "code",
   "execution_count": 51,
   "id": "f5517862-95aa-4d13-b8e3-9f5349c66287",
   "metadata": {},
   "outputs": [
    {
     "name": "stdout",
     "output_type": "stream",
     "text": [
      "5\n"
     ]
    },
    {
     "data": {
      "text/plain": [
       "5"
      ]
     },
     "execution_count": 51,
     "metadata": {},
     "output_type": "execute_result"
    }
   ],
   "source": [
    "# przykład 9\n",
    "# patrząc tylko na ten przykład z dwoma elementami, które przetwarza reduce\n",
    "# można nie zauważyć, że jej wykonanie odbywa się w sposób skumulowany, co oznacza,\n",
    "# że po każdym jej wykonaniu zwracany jest rezultat, i kolejny krok wykonywany jest\n",
    "# na tym zwróconym rezultacie i elemencie kolejnym, jeżeli występuje\n",
    "\n",
    "nums = [1, 1, 1, 1, 1]\n",
    "\n",
    "print(reduce(add, nums))\n",
    "\n",
    "# co jest równoważne z\n",
    "result = 0\n",
    "for elem in nums:\n",
    "    result = result + elem\n",
    "result"
   ]
  },
  {
   "cell_type": "code",
   "execution_count": 12,
   "id": "d510ee37-ca62-4028-8059-596a0cb29cb6",
   "metadata": {},
   "outputs": [
    {
     "name": "stdout",
     "output_type": "stream",
     "text": [
      "<class 'function'>\n",
      "4 125\n"
     ]
    },
    {
     "data": {
      "text/plain": [
       "(4, 125)"
      ]
     },
     "execution_count": 12,
     "metadata": {},
     "output_type": "execute_result"
    }
   ],
   "source": [
    "# przykład 10\n",
    "# wykorzystanie lambdy w innej funkcji\n",
    "# wywołanie samej funkcji zwróci obiekt typu lambda function, ale jeżeli\n",
    "# zadeklarujemy ją jako wywołanie tej funkcji z określonym argumentem,\n",
    "# do stworzymy sobie możliwość wywoływania jej w sposób jednolity dla różnych argumentów\n",
    "\n",
    "def power(n):\n",
    "  return lambda a : a ** n\n",
    "\n",
    "print(type(power))\n",
    "# n = 2\n",
    "square = power(2)\n",
    "# n = 3\n",
    "cube = power(3)\n",
    "\n",
    "print(square(2), cube(5))\n",
    "\n",
    "# rozpisując to bardziej obrazowo, wywołujemy to co powyżej tak jakbyśmy robili to tak\n",
    "# jak poniżej\n",
    "# n=2, a=2 oraz n=3, a=5\n",
    "power(2)(2), power(3)(5)"
   ]
  },
  {
   "cell_type": "code",
   "execution_count": 42,
   "id": "e3efa920-8264-46e2-8315-e5800c995d23",
   "metadata": {},
   "outputs": [
    {
     "name": "stdout",
     "output_type": "stream",
     "text": [
      "['Abracadbra', 'czary', 'i', 'magia.', 'to']\n",
      "['Abracadbra', 'magia.', 'czary', 'to', 'i']\n",
      "['Abracadbra', 'magia.', 'czary', 'to', 'i']\n",
      "['i', 'magia.', 'Abracadbra', 'to', 'czary']\n"
     ]
    }
   ],
   "source": [
    "# przykład 11\n",
    "# funkcje anonimowe możemy ogólnie wykorzystać wszędzie tam, gdzie funkcję możemy przekazać jako argument\n",
    "# np. w funkcji sorted, która służy do sortowania różnych obiektów iterowalnych\n",
    "\n",
    "data = 'Abracadbra to czary i magia.'\n",
    "\n",
    "# załóżmy, że chcemy to podzielić na wyrazy i posortować od nadłuższych do najkrótszych\n",
    "\n",
    "# domyślne sortowanie dla łańcuchów znaków to sortowanie alfabetyczne\n",
    "print(sorted(data.split()))\n",
    "\n",
    "# https://docs.python.org/3/library/functions.html#sorted\n",
    "# sorted przyjmuje jednak argument key, który może być funkcją, której użyjemy do wygenerowania wartości,\n",
    "# wg. których to sortowanie się wykona\n",
    "# ten przypadek sortowania po długości nie wymaga co prawda lambdy, ale zostanie również przedstawiony\n",
    "# domyślny kierunek sortowania to rosnący (widać to dla sortowania alfabetycznego), więc go odwracamy\n",
    "print(sorted(data.split(), key=lambda x: len(x), reverse=True))\n",
    "\n",
    "# równie dobrze możemy lambdę pominąć\n",
    "print(sorted(data.split(), key=len, reverse=True))\n",
    "\n",
    "# ale gdybyśmy chcieli teraz posortować wyrazy w porządku malejącym, w zależności od tego ile liter 'i' zawierają?\n",
    "print(sorted(data.split(), key=lambda x: x.count('i'), reverse=True))"
   ]
  },
  {
   "cell_type": "code",
   "execution_count": 17,
   "id": "3107ed17-8d08-4f35-af01-2cbf523f5298",
   "metadata": {},
   "outputs": [
    {
     "data": {
      "text/plain": [
       "[0, 1, 1]"
      ]
     },
     "execution_count": 17,
     "metadata": {},
     "output_type": "execute_result"
    }
   ],
   "source": [
    "# przykład 12\n",
    "# tu nieco bardziej rozbudowany przykład z implementacją generowania\n",
    "# listy z elementami ciągu Fibonacciego\n",
    "fib_series = lambda n: reduce(lambda x, _: x + [x[-1] + x[-2]], range(n - 2), [0, 1])\n",
    "fib_series(3)"
   ]
  },
  {
   "cell_type": "code",
   "execution_count": 86,
   "id": "3af9123c-0550-4fb2-8661-087ff63e880d",
   "metadata": {},
   "outputs": [
    {
     "name": "stdout",
     "output_type": "stream",
     "text": [
      "[0, 1, 1]\n",
      "[0, 1, 1, 2]\n"
     ]
    }
   ],
   "source": [
    "# jej zrozumienie wymaga nieco dłuższej analizy\n",
    "# popatrzmy najpierw na tę wewnętrzną lambdę\n",
    "in_lam = lambda x, _: x + [x[-1] + x[-2]]\n",
    "\n",
    "\n",
    "# poniższe wywołanie przypisze więc zmiennej x -> [0,1], a zmiennej _ -> 'cokolwiek'\n",
    "in_lam([0,1], 'cokolwiek')\n",
    "# czyli do [0, 1] doda sumę dwóch ostatnich elementów w postaci listy\n",
    "# mamy więc [0, 1] + [1] -> [0, 1, 1] i zostanie to zwrócone\n",
    "\n",
    "# dodając więc reduce i range(n - 2) osiągamy rekurencję\n",
    "# wywołanie fib_series(3) ustawia zmienną n=3, ale w range mamy n - 2,\n",
    "# co daje nam 1, więc mamy range(1), co zwróci tylko 0, a właściwie to\n",
    "# chodzi o to, że lambda wykona się tylko jeden raz\n",
    "# n = 3\n",
    "print(reduce(lambda x, _: x + [x[-1] + x[-2]], range(3 - 2), [0, 1]))\n",
    "\n",
    "# n = 4\n",
    "print(reduce(lambda x, _: x + [x[-1] + x[-2]], range(4 - 2), [0, 1]))\n",
    "\n",
    "# i teraz już wszystko jasne ;-)"
   ]
  },
  {
   "cell_type": "markdown",
   "id": "af7d70cd-613e-4413-8bbc-b73b0cb39814",
   "metadata": {},
   "source": [
    "Mimo, że funkcje lambda wydają się przydatne w niektórych przypadkach to nie należy ich nadużywać, z powodu mniejszej czytelności (zazwyczaj), zwłaszcza jeżeli są nieco bardziej złożone oraz nierzadko mniejszej wydajności (np. funkcja `sum` zazwyczaj zadziała szybciej od analogicznej lambdy). W dokumencie z oficjalnej dokumentacji Pythona dostępnym pod adresem https://docs.python.org/3/howto/functional.html znajdziemy opinię `Fredrika Lundh'a`, który wyraził ją w słowach:\n",
    "\n",
    "> Write a lambda function.  \n",
    "> Write a comment explaining what the heck that lambda does.  \n",
    "> Study the comment for a while, and think of a name that captures the essence of the comment.  \n",
    "> Convert the lambda to a def statement, using that name.  \n",
    "> Remove the comment.  \n",
    "\n",
    "Można się z nimi zgadzać lub nie, ale warto o nich pamiętać jeżeli napisanie funkcji anonimowej, która nam właśnie przyszła do głowy trwa zbyt długo ze względu na jej stopień skomplikowania."
   ]
  }
 ],
 "metadata": {
  "kernelspec": {
   "display_name": "Python 3 (ipykernel)",
   "language": "python",
   "name": "python3"
  },
  "language_info": {
   "codemirror_mode": {
    "name": "ipython",
    "version": 3
   },
   "file_extension": ".py",
   "mimetype": "text/x-python",
   "name": "python",
   "nbconvert_exporter": "python",
   "pygments_lexer": "ipython3",
   "version": "3.12.7"
  }
 },
 "nbformat": 4,
 "nbformat_minor": 5
}
