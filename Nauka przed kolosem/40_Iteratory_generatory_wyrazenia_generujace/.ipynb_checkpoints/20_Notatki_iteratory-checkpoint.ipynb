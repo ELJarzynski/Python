{
 "cells": [
  {
   "cell_type": "markdown",
   "id": "c792658d-0c26-4745-a487-f3cf4483431d",
   "metadata": {},
   "source": [
    "# Iterator"
   ]
  },
  {
   "cell_type": "markdown",
   "id": "c5e029f1-5a47-4964-a652-e383a85a1fd1",
   "metadata": {},
   "source": [
    "## Przykład dla własnej klasy"
   ]
  },
  {
   "cell_type": "code",
   "execution_count": 3,
   "id": "ada42d6e-78b3-4237-93a0-3df774174a84",
   "metadata": {},
   "outputs": [
    {
     "name": "stdout",
     "output_type": "stream",
     "text": [
      "<str_ascii_iterator object at 0x0000014B9D57E0E0>\n",
      "R\n",
      "e\n",
      "k\n",
      "s\n",
      "--------------------\n",
      "l\n",
      "i\n",
      "m\n",
      "a\n",
      "K\n"
     ]
    }
   ],
   "source": [
    "imie = \"Reks\"\n",
    "it = iter(imie)\n",
    "print(it)\n",
    "print(next(it))\n",
    "print(next(it))\n",
    "print(next(it))\n",
    "print(next(it))\n",
    "\n",
    "\"\"\"Definicja własnego iteratora\"\"\"\n",
    "\n",
    "class Wspak:\n",
    "    def __init__(self, data):\n",
    "        self.data = data\n",
    "        self.length = len(data)\n",
    "\n",
    "    def __iter__(self):\n",
    "        return self\n",
    "\n",
    "    def __next__(self):\n",
    "        if self.length == 0:\n",
    "            raise StopIteration\n",
    "        self.length -= 1\n",
    "        return self.data[self.length]\n",
    "\n",
    "\n",
    "przyklad_1 = Wspak(\"Kamil\")\n",
    "print('-'*20)\n",
    "print(next(przyklad_1))\n",
    "print(next(przyklad_1))\n",
    "print(next(przyklad_1))\n",
    "print(next(przyklad_1))\n",
    "print(next(przyklad_1))"
   ]
  },
  {
   "cell_type": "markdown",
   "id": "b2f5850c-d562-4461-80f8-c9c7361a63aa",
   "metadata": {},
   "source": [
    "# collections.abc.Iterable collections.abc.Iterator"
   ]
  },
  {
   "cell_type": "markdown",
   "id": "82a0f9be-335f-4e76-a6ef-1e7959534980",
   "metadata": {},
   "source": [
    "Klasa Iterable zapewnia implementację metody __iter__\n",
    "Klasa Iterator zapewnia implementację metody __iter__ oraz __next__\n",
    "\n",
    "Przetestowanie czy obiekt jest iterowalny czy nie można wykonać za pomocą wbudowanych metod isinstance() oraz issubclass() \n",
    "albo poprzez opakowanie rzutowania obiektu na iterator poprzez wywołanie iter(obiekt) i obsłużenie wyjątku TypeError."
   ]
  },
  {
   "cell_type": "code",
   "execution_count": 6,
   "id": "6cdf6fe9-4326-45ed-838c-a43dfc9ff48f",
   "metadata": {},
   "outputs": [
    {
     "name": "stdout",
     "output_type": "stream",
     "text": [
      "Obiekt <class 'str'> dziedziczy po collections.abc.Iterable: True\n",
      "Obiekt <class 'str'> dziedziczy po collections.abc.Iterator: False\n",
      "Obiekt <class 'str'> posiada metodę __next__: False\n",
      "Obiekt <class 'str'> posiada metodę __iter__: True\n",
      " Obiekt iteratora dla obiekty <class 'str'> to str_ascii_iterator\n",
      "--------------------\n",
      "Obiekt <class 'int'> dziedziczy po collections.abc.Iterable: False\n",
      "Obiekt <class 'int'> dziedziczy po collections.abc.Iterator: False\n",
      "Obiekt <class 'int'> posiada metodę __next__: False\n",
      "Obiekt <class 'int'> posiada metodę __iter__: False\n",
      "Rzutwanie zakończone błędem 'int' object is not iterable\n",
      "--------------------\n",
      "Obiekt <class 'tuple'> dziedziczy po collections.abc.Iterable: True\n",
      "Obiekt <class 'tuple'> dziedziczy po collections.abc.Iterator: False\n",
      "Obiekt <class 'tuple'> posiada metodę __next__: False\n",
      "Obiekt <class 'tuple'> posiada metodę __iter__: True\n",
      " Obiekt iteratora dla obiekty <class 'tuple'> to tuple_iterator\n",
      "--------------------\n",
      "Obiekt <class 'list'> dziedziczy po collections.abc.Iterable: True\n",
      "Obiekt <class 'list'> dziedziczy po collections.abc.Iterator: False\n",
      "Obiekt <class 'list'> posiada metodę __next__: False\n",
      "Obiekt <class 'list'> posiada metodę __iter__: True\n",
      " Obiekt iteratora dla obiekty <class 'list'> to list_iterator\n",
      "--------------------\n",
      "Obiekt <class 'dict'> dziedziczy po collections.abc.Iterable: True\n",
      "Obiekt <class 'dict'> dziedziczy po collections.abc.Iterator: False\n",
      "Obiekt <class 'dict'> posiada metodę __next__: False\n",
      "Obiekt <class 'dict'> posiada metodę __iter__: True\n",
      " Obiekt iteratora dla obiekty <class 'dict'> to dict_keyiterator\n",
      "--------------------\n",
      "Obiekt <class 'set'> dziedziczy po collections.abc.Iterable: True\n",
      "Obiekt <class 'set'> dziedziczy po collections.abc.Iterator: False\n",
      "Obiekt <class 'set'> posiada metodę __next__: False\n",
      "Obiekt <class 'set'> posiada metodę __iter__: True\n",
      " Obiekt iteratora dla obiekty <class 'set'> to set_iterator\n",
      "--------------------\n"
     ]
    }
   ],
   "source": [
    "import collections.abc\n",
    "some_types_to_ceck = [str, int, tuple, list, dict, set]\n",
    "\n",
    "def check(objects_to_check):\n",
    "    for obj in objects_to_check:\n",
    "        print(f'Obiekt {obj} dziedziczy po collections.abc.Iterable: {issubclass(obj, collections.abc.Iterable)}')\n",
    "        print(f'Obiekt {obj} dziedziczy po collections.abc.Iterator: {issubclass(obj, collections.abc.Iterator)}')\n",
    "        print(f'Obiekt {obj} posiada metodę __next__: {hasattr(obj, '__next__')}')\n",
    "        print(f'Obiekt {obj} posiada metodę __iter__: {hasattr(obj, '__iter__')}')\n",
    "        # rzutowanie na obiekt iteratora\n",
    "        # obj to nazwa klasy lub funkcji – np. list, tuple, str, iter, range, dict, map, itp.\n",
    "        # obj() to tworzenie instancji tej klasy/funkcji, czyli obiektu, np. list() tworzy pustą listę, range()\n",
    "        # bez argumentów da błąd, iter([]) tworzy iterator z pustej listy.\n",
    "\n",
    "        try:\n",
    "            obj_iter = iter(obj())\n",
    "            print(f' Obiekt iteratora dla obiekty {obj} to {obj_iter.__class__.__name__}')\n",
    "        except TypeError as e:\n",
    "            print(f'Rzutwanie zakończone błędem',e)\n",
    "        print('-'*20)\n",
    "\n",
    "check(some_types_to_ceck)"
   ]
  },
  {
   "cell_type": "markdown",
   "id": "3352ddf9-47b5-410b-bb83-83d005a8121b",
   "metadata": {},
   "source": [
    "# Wyrażenia generujące"
   ]
  },
  {
   "cell_type": "markdown",
   "id": "ce3c3d13-b451-4e25-bb0f-2cf63385194d",
   "metadata": {},
   "source": [
    "Podobnie do wyrażeń listowych (Python comprehension) możliwe jest również zapisanie wyrażenia generatora w analogiczny\n",
    " sposób. Używamy do tego celu nawiasów zwykłych. Przykład pniżej"
   ]
  },
  {
   "cell_type": "code",
   "execution_count": 8,
   "id": "95ee1119-5a3f-4499-b7d3-ec2351e07e62",
   "metadata": {},
   "outputs": [
    {
     "name": "stdout",
     "output_type": "stream",
     "text": [
      "<generator object <genexpr> at 0x0000014B9D61A5C0>\n",
      "Z\n",
      "d\n",
      "z\n",
      "['i', 's', 'ł', 'a', 'w']\n"
     ]
    }
   ],
   "source": [
    "litery = (litera for litera in \"Zdzisław\")\n",
    "print(litery)\n",
    "print(next(litery))\n",
    "print(next(litery))\n",
    "print(next(litery))\n",
    "\n",
    "# i cała reszta\n",
    "print(list(litery))"
   ]
  },
  {
   "cell_type": "markdown",
   "id": "4d4b6576-1f8e-4239-bd2e-66fbc8362460",
   "metadata": {},
   "source": [
    "# Zadania"
   ]
  },
  {
   "cell_type": "markdown",
   "id": "d70c15ad-0353-4092-aa11-ebb42f20ff4f",
   "metadata": {},
   "source": [
    "## Zadanie 1 \n",
    "\n",
    "Napisz własny iterator, który będzie zwracał tylko elementy z parzystych indeksów przekazanej sekwencji."
   ]
  },
  {
   "cell_type": "code",
   "execution_count": 16,
   "id": "c8315c71-5458-482b-b3de-a0d10edcf130",
   "metadata": {},
   "outputs": [
    {
     "name": "stdout",
     "output_type": "stream",
     "text": [
      "1\n",
      "3\n",
      "5\n",
      "7\n"
     ]
    }
   ],
   "source": [
    "# Zad 1\n",
    "import itertools\n",
    "import string\n",
    "import re\n",
    "\n",
    "class EvenIndex:\n",
    "    \"\"\"Iterator zwracający wartości na parzystych indeksach\"\"\"\n",
    "\n",
    "    def __init__(self, data):\n",
    "        self.data = data\n",
    "        self.index = 0\n",
    "\n",
    "    def __iter__(self):\n",
    "        return self\n",
    "\n",
    "    def __next__(self):\n",
    "        if self.index >= len(self.data):\n",
    "            raise StopIteration\n",
    "        value = self.data[self.index]\n",
    "        self.index += 2\n",
    "        return value\n",
    "\n",
    "list_1 = [1,2,3,4,5,6,7,8]\n",
    "as_1 = EvenIndex(list_1)\n",
    "for _ in as_1:\n",
    "    print(_)"
   ]
  },
  {
   "cell_type": "markdown",
   "id": "f86a28de-de69-459c-b5fd-e1fa04247116",
   "metadata": {},
   "source": [
    "## Zadanie 2\n",
    "\n",
    "Bazując na przykładzie z iteratorem generującym kolejne wartości ciągu Fibonacciego napisz iterator, który generuje liczby pierwsze."
   ]
  },
  {
   "cell_type": "code",
   "execution_count": null,
   "id": "cd4f0211-bae9-461f-8a7d-00f7cc6d1033",
   "metadata": {},
   "outputs": [
    {
     "name": "stdout",
     "output_type": "stream",
     "text": [
      "2\n",
      "3\n",
      "5\n",
      "7\n",
      "11\n",
      "13\n",
      "17\n",
      "19\n"
     ]
    }
   ],
   "source": [
    "# Zad 2\n",
    "class PrimeGenerator:\n",
    "    \"\"\"Prime numbers generator\"\"\"\n",
    "\n",
    "    def __init__(self, length):\n",
    "        self.length = length\n",
    "        self.index = 2\n",
    "\n",
    "    def __iter__(self):\n",
    "        return self\n",
    "\n",
    "    def __next__(self):\n",
    "        if self.index >= self.length:\n",
    "            raise StopIteration\n",
    "\n",
    "        while self.index < self.length:\n",
    "            is_prime = True\n",
    "            for j in range(2, self.index):\n",
    "                if self.index % j == 0:\n",
    "                    is_prime = False\n",
    "                    break\n",
    "            if is_prime:\n",
    "                result = self.index\n",
    "                self.index += 1\n",
    "                return result\n",
    "            self.index += 1\n",
    "        raise StopIteration\n",
    "        \n",
    "as_2 = PrimeGenerator(20)\n",
    "for _ in as_2:\n",
    "    print(_)"
   ]
  },
  {
   "cell_type": "markdown",
   "id": "c06aa26f-5822-4849-8d3d-c5000a964f7b",
   "metadata": {},
   "source": [
    "## Zadanie 3\n",
    "\n",
    "Napisz iterator, który zwraca nazwy dni tygodnia w języku polskim (patrz zadanie 4, lab 7). Iterator inicjalizujemy indeksem wskazującym, od którego dnia iteracja się rozpoczyna. Iterator powinien działać w sposób nieskończony (ale uważaj w trakcie jego testowania)."
   ]
  },
  {
   "cell_type": "code",
   "execution_count": null,
   "id": "c4e5df98-7445-40b1-ba92-a8727f3a0ce9",
   "metadata": {},
   "outputs": [
    {
     "name": "stdout",
     "output_type": "stream",
     "text": [
      "czwartek\n",
      "piątek\n",
      "sobota\n",
      "niedziela\n",
      "poniedziałek\n",
      "wtorek\n",
      "środa\n",
      "czwartek\n",
      "piątek\n",
      "sobota\n"
     ]
    }
   ],
   "source": [
    "# Zad 3\n",
    "class DaysIter:\n",
    "    \"\"\"Day after day Night after night\"\"\"\n",
    "\n",
    "    def __init__(self, start_day):\n",
    "        self.days = ['poniedziałek', 'wtorek', 'środa', 'czwartek', 'piątek', 'sobota', 'niedziela']\n",
    "        if start_day not in self.days:\n",
    "            raise ValueError('Nieprawidłowy dzień tygodnia')\n",
    "        self.index = self.days.index(start_day)\n",
    "\n",
    "\n",
    "    def __iter__(self):\n",
    "        return self\n",
    "\n",
    "    def __next__(self):\n",
    "        day = self.days[self.index]\n",
    "        self.index = (self.index + 1) % len(self.days)\n",
    "        return day\n",
    "\n",
    "as_3 = DaysIter('czwartek')\n",
    "for _ in range(10):\n",
    "    print(next(as_3))"
   ]
  },
  {
   "cell_type": "markdown",
   "id": "10a3ae99-414b-4fbe-b419-194adfb53e92",
   "metadata": {},
   "source": [
    "## Zadanie 4\n",
    "\n",
    "Napisz iterator, który będzie zwracał kolejne słowa z przekazanego tekstu, ale wykorzystaj wyrażenia regularne do wydobycia tych słów. Postaraj się wykorzystać iterator również dla znalezionych dopasowań dla tego wyrażenia (patrz poprzednie laboratoria)."
   ]
  },
  {
   "cell_type": "code",
   "execution_count": null,
   "id": "edf3b900-87ea-4a50-a210-89b681559ed2",
   "metadata": {},
   "outputs": [
    {
     "name": "stdout",
     "output_type": "stream",
     "text": [
      "abba\n",
      "kaba\n",
      "papa\n",
      "baba\n",
      "fran\n",
      "siema\n",
      "cisz\n",
      "BMW\n",
      "ek\n",
      "aUDI\n"
     ]
    }
   ],
   "source": [
    "# Zad 4\n",
    "class TextIter:\n",
    "    \"\"\"This works well\"\"\"\n",
    "\n",
    "    def __init__(self, text):\n",
    "        self.text = text\n",
    "        self.index = 0\n",
    "        self.words = re.findall(r'\\w+', text)\n",
    "\n",
    "    def __iter__(self):\n",
    "        return self\n",
    "\n",
    "    def __next__(self):\n",
    "        if self.index >= len(self.words):\n",
    "            raise StopIteration\n",
    "\n",
    "        word = self.words[self.index]\n",
    "        self.index += 1\n",
    "        return word\n",
    "text = \"\"\"\n",
    "    abba kaba papa \n",
    "    baba fran\n",
    "    siema cisz\n",
    "    BMW ek\n",
    "    aUDI\n",
    "\"\"\"\n",
    "as_4 = TextIter(text)\n",
    "for _ in as_4:\n",
    "    print(_)"
   ]
  },
  {
   "cell_type": "markdown",
   "id": "f3f6c9ba-c07b-4190-b5af-16086fcd1ae2",
   "metadata": {},
   "source": [
    "## Zadanie 5\n",
    "\n",
    "Przepisz iterator z zadania 4 na generator (funkcja generująca)."
   ]
  },
  {
   "cell_type": "code",
   "execution_count": null,
   "id": "2d2de4cb-a617-4b00-a6ac-d70c5a79ae1f",
   "metadata": {},
   "outputs": [
    {
     "name": "stdout",
     "output_type": "stream",
     "text": [
      "abba\n",
      "kaba\n",
      "papa\n",
      "baba\n",
      "fran\n",
      "siema\n",
      "cisz\n",
      "BMW\n",
      "ek\n",
      "aUDI\n"
     ]
    }
   ],
   "source": [
    "# Zad 5\n",
    "def text_generator(text):\n",
    "    \"\"\"This works Yield well\"\"\"\n",
    "\n",
    "    words = re.findall(r'\\w+', text)\n",
    "\n",
    "    for word in words:\n",
    "        yield word\n",
    "\n",
    "as_5 = text_generator(text)\n",
    "for _ in as_5:\n",
    "    print(_)"
   ]
  },
  {
   "cell_type": "markdown",
   "id": "f7e928af-cda3-4f38-bd21-fc0e6283830a",
   "metadata": {},
   "source": [
    "## Zadanie 6\n",
    "\n",
    "Napisz generator kodów produktów, który przyjmuje dwa argumenty inicjujące: letter_pos, num_pos - oba są typem int. Ten generator ma zwracać kolejny kod produktu według schematu:\n",
    "\n",
    "wywołanie dla letter_pos = 1 oraz num_pos = 2 generuje kody od A_01 do Z_99\n",
    "wywołanie dla letter_pos = 2 oraz num_pos = 3 generuje kody od A_001 do ZZ_999\n",
    "Rzuć okiem na moduł string oraz mmoduł itertools z poprzedniego laboratorium, aby wykorzystać funkcje pomocnicze."
   ]
  },
  {
   "cell_type": "code",
   "execution_count": null,
   "id": "e8a5b7c9-ae67-4591-b6d1-1940c94ee317",
   "metadata": {},
   "outputs": [
    {
     "name": "stdout",
     "output_type": "stream",
     "text": [
      "A_10\n",
      "A_11\n",
      "A_12\n",
      "A_13\n",
      "A_14\n",
      "AA_100\n",
      "AA_101\n",
      "AA_102\n",
      "AA_103\n",
      "AA_104\n"
     ]
    }
   ],
   "source": [
    "# Zad 6\n",
    "def code_generator(letter_pos, num_pos):\n",
    "    \"\"\"Homework done\"\"\"\n",
    "\n",
    "    alphabet = string.ascii_uppercase\n",
    "    num_range = range(10**(num_pos - 1), 10**num_pos)\n",
    "\n",
    "    for letter_tuple in itertools.product(alphabet, repeat=letter_pos):\n",
    "        letter_part = ''.join(letter_tuple)\n",
    "        for num in num_range:\n",
    "            num_part = str(num).zfill(num_pos)\n",
    "            yield f\"{letter_part}_{num_part}\"\n",
    "\n",
    "gen = code_generator(1, 2)\n",
    "for _ in range(5):\n",
    "    print(next(gen))\n",
    "\n",
    "gen = code_generator(2, 3)\n",
    "for _ in range(5):\n",
    "    print(next(gen))"
   ]
  }
 ],
 "metadata": {
  "kernelspec": {
   "display_name": "Python 3 (ipykernel)",
   "language": "python",
   "name": "python3"
  },
  "language_info": {
   "codemirror_mode": {
    "name": "ipython",
    "version": 3
   },
   "file_extension": ".py",
   "mimetype": "text/x-python",
   "name": "python",
   "nbconvert_exporter": "python",
   "pygments_lexer": "ipython3",
   "version": "3.12.7"
  }
 },
 "nbformat": 4,
 "nbformat_minor": 5
}
