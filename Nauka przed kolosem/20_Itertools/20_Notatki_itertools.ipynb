{
 "cells": [
  {
   "cell_type": "code",
   "execution_count": 2,
   "id": "21a533b2-b31f-41e2-942e-b76908906316",
   "metadata": {},
   "outputs": [],
   "source": [
    "\"\"\"ITERATORY NIESKOŃCZONE\"\"\"\n",
    "import itertools"
   ]
  },
  {
   "cell_type": "code",
   "execution_count": null,
   "id": "967fe309-8237-40af-9ff6-e86c99bc3ae7",
   "metadata": {},
   "outputs": [],
   "source": [
    "\"\"\" itertools.count(start=0, step=1)\n",
    "Tworzy nieskończony iterator, który generuje kolejne liczby zaczynając od start (domyślnie 0) i zwiększając je\n",
    "o step (domyślnie 1). Działa jak licznik — zwraca start, start + step, start + 2 * step itd. Używa się go często\n",
    "do numerowania elementów w zip() lub map() bez konieczności tworzenia pełnej listy liczb. Ponieważ jest nieskończony, \n",
    "trzeba go ograniczyć ręcznie np. islice(), next() lub break.\"\"\"\n"
   ]
  },
  {
   "cell_type": "code",
   "execution_count": 3,
   "id": "399287c2-cc49-4726-b02b-f37bd29d885f",
   "metadata": {},
   "outputs": [
    {
     "name": "stdout",
     "output_type": "stream",
     "text": [
      "T - 10\n",
      "T - 9\n",
      "T - 8\n",
      "T - 7\n",
      "T - 6\n",
      "T - 5\n",
      "T - 4\n",
      "T - 3\n",
      "T - 2\n",
      "T - 1\n",
      "T - 0\n",
      "Time is up!\n"
     ]
    }
   ],
   "source": [
    "countdown = 10\n",
    "\n",
    "for num in itertools.count(countdown, -1):\n",
    "    if num >= 0:\n",
    "        print(f'T - {num}')\n",
    "    else:\n",
    "        print(\"Time is up!\")\n",
    "        break"
   ]
  },
  {
   "cell_type": "code",
   "execution_count": null,
   "id": "b01bf003-9499-421a-98fe-c5f19f2cddac",
   "metadata": {},
   "outputs": [],
   "source": [
    "\"\"\" itertools.cycle(iterable)\n",
    "tworzy nieskończony iterator, który powtarza elementy podanej sekwencji w kółko. \n",
    "Nadaje się np. do powtarzalnych wzorców, takich jak kolory lub nazwy. Trzeba samodzielnie przerwać jego działanie, \n",
    "np. pętlą for z ograniczeniem lub islice() bądź next().\"\"\""
   ]
  },
  {
   "cell_type": "code",
   "execution_count": 6,
   "id": "0d1e0576-1528-454b-a490-08ae703b1652",
   "metadata": {},
   "outputs": [
    {
     "name": "stdout",
     "output_type": "stream",
     "text": [
      "Dzień tygodnia poniedziałek\n",
      "Dzień tygodnia wtorek\n",
      "Dzień tygodnia środa\n",
      "Dzień tygodnia czwartek\n",
      "Dzień tygodnia piątek\n",
      "Dzień tygodnia sobota\n",
      "Dzień tygodnia niedziela\n",
      "Dzień tygodnia poniedziałek\n",
      "Dzień tygodnia wtorek\n",
      "Dzień tygodnia środa\n"
     ]
    }
   ],
   "source": [
    "days_of_week = ['poniedziałek', 'wtorek', 'środa', 'czwartek', 'piątek', 'sobota', 'niedziela']\n",
    "n = 10\n",
    "\n",
    "for statement in itertools.cycle(days_of_week):\n",
    "    if n != 0:\n",
    "        n -= 1\n",
    "        print(f'Dzień tygodnia {statement}')\n",
    "    else:\n",
    "        break"
   ]
  },
  {
   "cell_type": "code",
   "execution_count": null,
   "id": "98b16f56-32bd-438e-9819-9d2d5acdfb7a",
   "metadata": {},
   "outputs": [],
   "source": [
    "\"\"\"itertools.repeat(object, times=None) \n",
    "Zwraca iterator powtarzający object. Jeśli times nie zostanie podane, powtarza nieskończoną liczbę razy. \n",
    "Przydatne do zapełniania lub łączenia z innymi iteratorami.\"\"\""
   ]
  },
  {
   "cell_type": "code",
   "execution_count": 5,
   "id": "afa14955-d790-4aab-86cb-dce77d11867b",
   "metadata": {},
   "outputs": [
    {
     "name": "stdout",
     "output_type": "stream",
     "text": [
      "Nie będę kopał piłki od siatki nogą...\n",
      "Nie będę kopał piłki od siatki nogą...\n",
      "Nie będę kopał piłki od siatki nogą...\n",
      "Nie będę kopał piłki od siatki nogą...\n",
      "Nie będę kopał piłki od siatki nogą...\n",
      "Nie będę kopał piłki od siatki nogą...\n",
      "Nie będę kopał piłki od siatki nogą...\n",
      "Nie będę kopał piłki od siatki nogą...\n",
      "Nie będę kopał piłki od siatki nogą...\n",
      "Nie będę kopał piłki od siatki nogą...\n"
     ]
    }
   ],
   "source": [
    "WF = \"Nie będę kopał piłki od siatki nogą...\"\n",
    "\n",
    "for statement in itertools.repeat(WF, 10):\n",
    "    print(statement)\n"
   ]
  },
  {
   "cell_type": "code",
   "execution_count": null,
   "id": "f67b4d54-725d-4a98-9677-ce6a77007adb",
   "metadata": {},
   "outputs": [],
   "source": [
    "\"\"\"ITERATORY SKOŃCZONE\"\"\""
   ]
  },
  {
   "cell_type": "code",
   "execution_count": 8,
   "id": "ae6c3e33-8827-41fb-bf3c-4deddd83bbb7",
   "metadata": {},
   "outputs": [
    {
     "name": "stdout",
     "output_type": "stream",
     "text": [
      "[1, 2, 6, 24, 120]\n",
      "['A', 'AB', 'ABC']\n"
     ]
    }
   ],
   "source": [
    "\"\"\"itertools.accumulate(iterable, func=operator.add) \n",
    "Zwraca iterator, który zwraca skumulowane wyniki działania funkcji (domyślnie dodawania) na elementach iterable\"\"\"\n",
    "\n",
    "\"\"\"Operatory do accumulate\n",
    "operator.add(a, b)\t    Dodawanie\ta + b\n",
    "operator.sub(a, b)\t    Odejmowanie\ta - b\n",
    "operator.mul(a, b)\t    Mnożenie\ta * b\n",
    "operator.truediv(a, b)\tDzielenie (float)\ta / b\n",
    "operator.floordiv(a, b)\tDzielenie całkowite\ta // b\n",
    "operator.mod(a, b)\t    Reszta z dzielenia\ta % b\n",
    "operator.pow(a, b)\t    Potęgowanie\ta ** b\n",
    "operator.neg(a)\t        Negacja\t-a\n",
    "operator.abs(a)\t        Wartość bezwzględna\tabs(a)\n",
    "\"\"\"\n",
    "import operator\n",
    "print(list(itertools.accumulate(range(1,6), operator.mul)))\n",
    "print(list(itertools.accumulate(['A', 'B', 'C'])))"
   ]
  },
  {
   "cell_type": "code",
   "execution_count": 11,
   "id": "b9a4ccda-05dc-4868-aa20-948a1263086f",
   "metadata": {},
   "outputs": [
    {
     "name": "stdout",
     "output_type": "stream",
     "text": [
      "(1, 2, 3)\n",
      "(4, 5, 6)\n",
      "(7, 8, 9)\n",
      "(10, 11, 12)\n",
      "('A', 'b', 'r')\n",
      "('a', 'c', 'a')\n",
      "('d', 'a', 'b')\n",
      "('r', 'a', ' ')\n",
      "('n', 'i', 'e')\n",
      "(' ', 'w', 'i')\n",
      "('e', 'm', ' ')\n",
      "('c', 'o', ' ')\n",
      "('n', 'a', 'p')\n",
      "('i', 's', 'a')\n",
      "('ć', ' ', 'd')\n",
      "('a', 'l', 'e')\n"
     ]
    }
   ],
   "source": [
    "\"\"\"itertools.batched(iterable, n) \n",
    "Dzieli dane z iterable na listy (batch'e) po n elementów. Ostatni batch może być krótszy, jeśli nie starczy elementów. \n",
    "Przydaje się do przetwarzania danych w grupach.\"\"\"\n",
    "nums = list(range(1, 13))\n",
    "\n",
    "for batch in itertools.batched(nums, 3):\n",
    "    print(batch)\n",
    "\n",
    "for batch in itertools.batched(\"Abracadabra nie wiem co napisać dale\", 3):\n",
    "    print(batch)"
   ]
  },
  {
   "cell_type": "code",
   "execution_count": 12,
   "id": "1a403573-492d-4e1f-a86e-c684d2074231",
   "metadata": {},
   "outputs": [
    {
     "name": "stdout",
     "output_type": "stream",
     "text": [
      "[2, 12, 30, 56, 90, 132]\n"
     ]
    }
   ],
   "source": [
    "\"\"\"itertools.starmap(func, iterable)\n",
    "Działa jak map, ale rozpakowuje argumenty z każdego element (czyli krotki) w iterable i przekazuje je do funkcji. Czyli func(*args)\n",
    "\"\"\"\n",
    "paczki = itertools.batched(nums,2)\n",
    "print(list(itertools.starmap(operator.mul, paczki)))"
   ]
  },
  {
   "cell_type": "code",
   "execution_count": 13,
   "id": "a5d85b2f-2573-4159-ba4c-52400810fb31",
   "metadata": {},
   "outputs": [
    {
     "name": "stdout",
     "output_type": "stream",
     "text": [
      "[('A', 1), ('B', 2), ('C', 3), ('D', None), ('E', None), ('F', None)]\n",
      "[('A', 1), ('B', 2), ('C', 3), ('D', '-'), ('E', '-'), ('F', '-')]\n",
      "[('A', 1), ('B', 2), ('C', 3), ('D', 0), ('E', 0), ('F', 0)]\n"
     ]
    }
   ],
   "source": [
    "\"\"\"zip_longest(p, q, ..., fillvalue=None)\n",
    "Łączy elementy z wielu iterowalnych obiektów jak zip, ale wydłuża wynik do najdłuższego z nich, uzupełniając brakujące wartości fillvalue.\"\"\"\n",
    "print(list(itertools.zip_longest('ABCDEF', [1,2,3])))\n",
    "print(list(itertools.zip_longest('ABCDEF', [1,2,3], fillvalue='-')))\n",
    "print(list(itertools.zip_longest('ABCDEF', [1,2,3], fillvalue=0)))"
   ]
  },
  {
   "cell_type": "code",
   "execution_count": null,
   "id": "def0d8a2-a884-4b97-b446-71fa65c31823",
   "metadata": {},
   "outputs": [],
   "source": [
    "\"\"\"KOMBINATORYKA\"\"\""
   ]
  },
  {
   "cell_type": "code",
   "execution_count": 14,
   "id": "c3099f1b-8689-4da2-92a8-70eb312cead5",
   "metadata": {},
   "outputs": [
    {
     "name": "stdout",
     "output_type": "stream",
     "text": [
      "[(1,), (2,), (3,)]\n",
      "[(1, 1), (1, 2), (1, 3), (2, 1), (2, 2), (2, 3), (3, 1), (3, 2), (3, 3)]\n",
      "[(1, 1), (1, 2), (1, 3), (2, 1), (2, 2), (2, 3), (3, 1), (3, 2), (3, 3)]\n",
      "[('!', '!'), ('!', '@'), ('!', '#'), ('!', '$'), ('@', '!'), ('@', '@'), ('@', '#'), ('@', '$'), ('#', '!'), ('#', '@'), ('#', '#'), ('#', '$'), ('$', '!'), ('$', '@'), ('$', '#'), ('$', '$')]\n"
     ]
    }
   ],
   "source": [
    "\"\"\"itertools.product(p, q, ..., repeat=1)\n",
    "Tworzy kartezjański iloczyn podanych iterowalnych obiektów. Zwraca wszystkie możliwe kombinacje elementów, jak zagnieżdżone pętle for.\"\"\"\n",
    "print(list(itertools.product([1,2,3])))\n",
    "print(list(itertools.product([1,2,3], repeat=2)))\n",
    "print(list(itertools.product([1,2,3],[1,2,3])))\n",
    "print(list(itertools.product('!@#$', repeat=2)))"
   ]
  },
  {
   "cell_type": "code",
   "execution_count": 15,
   "id": "b2022673-d049-4d7f-b3bb-440770499340",
   "metadata": {},
   "outputs": [
    {
     "name": "stdout",
     "output_type": "stream",
     "text": [
      "[('A', 'B', 'C'), ('A', 'C', 'B'), ('B', 'A', 'C'), ('B', 'C', 'A'), ('C', 'A', 'B'), ('C', 'B', 'A')]\n",
      "[('A', 'B'), ('A', 'C'), ('B', 'A'), ('B', 'C'), ('C', 'A'), ('C', 'B')]\n"
     ]
    }
   ],
   "source": [
    "\"\"\"itertools.permutations(p[, r])\n",
    "Zwraca wszystkie możliwe permutacje (czyli różne kolejności) r elementów z p. Jeśli r nie podano, to długość permutacji = długość p.\"\"\"\n",
    "print(list(itertools.permutations('ABC')))\n",
    "print(list(itertools.permutations('ABC', 2)))"
   ]
  },
  {
   "cell_type": "code",
   "execution_count": 16,
   "id": "72637e1b-ec3b-46e9-b5a6-b8e4d86796ec",
   "metadata": {},
   "outputs": [
    {
     "name": "stdout",
     "output_type": "stream",
     "text": [
      "[('A', 'B'), ('A', 'C'), ('B', 'C')]\n"
     ]
    },
    {
     "data": {
      "text/plain": [
       "[(3, 4), (3, 5), (3, 6), (4, 5), (4, 6), (5, 6)]"
      ]
     },
     "execution_count": 16,
     "metadata": {},
     "output_type": "execute_result"
    }
   ],
   "source": [
    "\"\"\"itertools.combinations(p, r)\n",
    "Zwraca wszystkie możliwe kombinacje r elementów z p, bez powtórzeń i kolejność nie ma znaczenia.\"\"\"\n",
    "print(list(itertools.combinations('ABC', 2)))\n",
    "list(itertools.combinations([3, 4, 5, 6], 2))"
   ]
  },
  {
   "cell_type": "code",
   "execution_count": 17,
   "id": "c7a92f2c-62d8-4048-815d-0a46055050a2",
   "metadata": {},
   "outputs": [
    {
     "name": "stdout",
     "output_type": "stream",
     "text": [
      "[('A', 'A'), ('A', 'B'), ('A', 'C'), ('B', 'B'), ('B', 'C'), ('C', 'C')]\n"
     ]
    },
    {
     "data": {
      "text/plain": [
       "[(3, 3),\n",
       " (3, 4),\n",
       " (3, 5),\n",
       " (3, 6),\n",
       " (4, 4),\n",
       " (4, 5),\n",
       " (4, 6),\n",
       " (5, 5),\n",
       " (5, 6),\n",
       " (6, 6)]"
      ]
     },
     "execution_count": 17,
     "metadata": {},
     "output_type": "execute_result"
    }
   ],
   "source": [
    "\"\"\"itertools.combinations_with_replacement(p, r)\n",
    "Jak combinations(), ale elementy mogą się powtarzać. Nadaje się np. do zliczania kombinacji z powtórzeniami.\"\"\"\n",
    "print(list(itertools.combinations_with_replacement('ABC', 2)))\n",
    "list(itertools.combinations_with_replacement([3, 4, 5, 6], 2))"
   ]
  },
  {
   "cell_type": "markdown",
   "id": "20cd520f-dcbb-408b-9c56-79161ac3e364",
   "metadata": {},
   "source": [
    "# Zadania domowe"
   ]
  },
  {
   "cell_type": "code",
   "execution_count": 24,
   "id": "9da5a7ef-2afd-4e4e-900e-fc4d35767295",
   "metadata": {},
   "outputs": [
    {
     "name": "stdout",
     "output_type": "stream",
     "text": [
      "[1, 1, 2, 3, 5, 8, 13, 21, 34]\n",
      "2227680\n"
     ]
    }
   ],
   "source": [
    "# Zadanie 3\n",
    "from functools import reduce\n",
    "as_1 = reduce(lambda x, _: x + [x[-1] + x[-2]], range(10-2),[0,1])\n",
    "print(as_1[1:])\n",
    "print(reduce(operator.mul, as_1[1:]))"
   ]
  },
  {
   "cell_type": "code",
   "execution_count": 22,
   "id": "9c6e0c23-4eb8-4cc5-9cb7-9313d0b4536f",
   "metadata": {},
   "outputs": [
    {
     "name": "stdout",
     "output_type": "stream",
     "text": [
      "niedziela\n"
     ]
    }
   ],
   "source": [
    "# Zadanie 4\n",
    "from itertools import islice, cycle\n",
    "as_2 = lambda start_day, n: next(islice(\n",
    "    itertools.dropwhile(lambda d: d !=start_day,\n",
    "                        cycle(['poniedziałek', 'wtorek', 'środa', 'czwartek', 'piątek', 'sobota', 'niedziela'])),\n",
    "    n, None))\n",
    "print(as_2('wtorek',5))"
   ]
  },
  {
   "cell_type": "code",
   "execution_count": 23,
   "id": "3a300bcd-1757-4dd7-af21-d085d06070b2",
   "metadata": {},
   "outputs": [
    {
     "name": "stdout",
     "output_type": "stream",
     "text": [
      "[('A', 'B'), ('A', 'C'), ('A', 'D'), ('B', 'A'), ('B', 'C'), ('B', 'D'), ('C', 'A'), ('C', 'B'), ('C', 'D'), ('D', 'A'), ('D', 'B'), ('D', 'C')]\n",
      "['AB', 'AC', 'AD', 'BA', 'BC', 'BD', 'CA', 'CB', 'CD', 'DA', 'DB', 'DC']\n"
     ]
    }
   ],
   "source": [
    "# Zadanie 6\n",
    "print(list(itertools.permutations('ABCD', 2)))\n",
    "as_6 = list(map(lambda x: ''.join(x), itertools.permutations('ABCD', r=2)))\n",
    "print(as_6)"
   ]
  },
  {
   "cell_type": "code",
   "execution_count": null,
   "id": "3715d4c0-c594-43a0-9df0-4501cf3b1faa",
   "metadata": {},
   "outputs": [],
   "source": []
  }
 ],
 "metadata": {
  "kernelspec": {
   "display_name": "Python 3 (ipykernel)",
   "language": "python",
   "name": "python3"
  },
  "language_info": {
   "codemirror_mode": {
    "name": "ipython",
    "version": 3
   },
   "file_extension": ".py",
   "mimetype": "text/x-python",
   "name": "python",
   "nbconvert_exporter": "python",
   "pygments_lexer": "ipython3",
   "version": "3.12.7"
  }
 },
 "nbformat": 4,
 "nbformat_minor": 5
}
