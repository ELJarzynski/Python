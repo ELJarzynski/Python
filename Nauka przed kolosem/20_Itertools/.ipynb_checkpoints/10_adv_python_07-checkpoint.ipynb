{
 "cells": [
  {
   "cell_type": "markdown",
   "id": "7eb0177a-2419-4a8a-8814-64604c17b59d",
   "metadata": {},
   "source": [
    "## 2. Moduł itertools"
   ]
  },
  {
   "cell_type": "markdown",
   "id": "99570d1a-2d01-4a7f-94a6-10f9f98f3960",
   "metadata": {},
   "source": [
    "Moduł `itertools` dostarcza narzędzi w postaci iteratorów, które mogą służyć do budowy bardziej wyrafinowych programów z wykorzystaniem np. kombinatoryki, kolejek obustronnie połączonych i innych. Pełna lista wraz z opisem i przykładami znajduje się w dokumentacji pod adresem:\n",
    "* https://docs.python.org/3/library/itertools.html\n",
    "\n",
    "Poniżej zostaną zaprezentowane przykłady z wykorzystaniem niektórych z nich."
   ]
  },
  {
   "cell_type": "code",
   "execution_count": 18,
   "id": "579e5174-b759-421a-8888-02cc4bee666d",
   "metadata": {},
   "outputs": [],
   "source": [
    "import itertools"
   ]
  },
  {
   "cell_type": "markdown",
   "id": "cba054c2-f81b-4596-a4da-dc4cc8f699a4",
   "metadata": {},
   "source": [
    "**Iteratory nieskończone**\n",
    "\n",
    "Są to iteratory, które po inicjalizacji mogą generować wartości w nieskończoność. Są to `count()`, `cycle()` oraz `repeat()`."
   ]
  },
  {
   "cell_type": "code",
   "execution_count": 19,
   "id": "2feba88c-40a8-4c95-a853-fa1911d3e3fd",
   "metadata": {},
   "outputs": [
    {
     "name": "stdout",
     "output_type": "stream",
     "text": [
      "2\n",
      "3\n",
      "4\n",
      "5\n",
      "T - 10\n",
      "T - 9\n",
      "T - 8\n",
      "T - 7\n",
      "T - 6\n",
      "T - 5\n",
      "T - 4\n",
      "T - 3\n",
      "T - 2\n",
      "T - 1\n",
      "T - 0\n",
      "Time is up!\n"
     ]
    }
   ],
   "source": [
    "# count([start, [step]])\n",
    "import time\n",
    "\n",
    "# przykład 1\n",
    "inf_count = itertools.count(2)\n",
    "print(next(inf_count))\n",
    "print(next(inf_count))\n",
    "print(next(inf_count))\n",
    "# ekwiwalent\n",
    "print(inf_count.__next__())\n",
    "# ...\n",
    "\n",
    "# przykład 2\n",
    "countdown = 10\n",
    "\n",
    "for num in itertools.count(countdown, -1):\n",
    "    if num >= 0:\n",
    "        print(f\"T - {num}\")\n",
    "        time.sleep(1)\n",
    "    else:\n",
    "        print('Time is up!')\n",
    "        break"
   ]
  },
  {
   "cell_type": "code",
   "execution_count": 121,
   "id": "af33270b-78b7-414c-9c08-816d95020f5c",
   "metadata": {},
   "outputs": [
    {
     "name": "stdout",
     "output_type": "stream",
     "text": [
      "Pierwszy dzień tygodnia to poniedziałek\n",
      "Drugi dzień tygodnia to wtorek\n"
     ]
    }
   ],
   "source": [
    "# cycle(p)\n",
    "\n",
    "dni_tygodnia = ['poniedziałek', 'wtorek', 'środa', 'czwartek', 'piątek', 'sobota', 'niedziela']\n",
    "\n",
    "day_cycle = itertools.cycle(dni_tygodnia)\n",
    "\n",
    "print(f'Pierwszy dzień tygodnia to {next(day_cycle)}')\n",
    "\n",
    "print(f'Drugi dzień tygodnia to {next(day_cycle)}')"
   ]
  },
  {
   "cell_type": "code",
   "execution_count": 20,
   "id": "04a40b9c-0e90-4488-ac69-b4fd15723b96",
   "metadata": {},
   "outputs": [
    {
     "name": "stdout",
     "output_type": "stream",
     "text": [
      "Nie będę więcej rozwiązywał zadań z użyciem ChatGPT ...\n",
      "Nie będę więcej rozwiązywał zadań z użyciem ChatGPT ...\n",
      "Nie będę więcej rozwiązywał zadań z użyciem ChatGPT ...\n",
      "Nie będę więcej rozwiązywał zadań z użyciem ChatGPT ...\n",
      "Nie będę więcej rozwiązywał zadań z użyciem ChatGPT ...\n",
      "Nie będę więcej rozwiązywał zadań z użyciem ChatGPT ...\n",
      "Nie będę więcej rozwiązywał zadań z użyciem ChatGPT ...\n",
      "Nie będę więcej rozwiązywał zadań z użyciem ChatGPT ...\n",
      "Nie będę więcej rozwiązywał zadań z użyciem ChatGPT ...\n",
      "Nie będę więcej rozwiązywał zadań z użyciem ChatGPT ...\n"
     ]
    }
   ],
   "source": [
    "# repeat(p, [n])\n",
    "\n",
    "# uwaga z uruchamianiem nieskończonych iteratorów, zwłaszcza w Jupyter Notebook - może skutecznie\n",
    "# zawiesić przeglądarkę\n",
    "# jeżeli nie zdefinioujemy argumentu n (tu 10) to powtarzanie odbywa się w nieskończoność\n",
    "dziesiec = itertools.repeat('Nie będę więcej rozwiązywał zadań z użyciem ChatGPT ...', 10)\n",
    "\n",
    "for statement in dziesiec:\n",
    "    print(statement)"
   ]
  },
  {
   "cell_type": "markdown",
   "id": "78512d4f-b731-42fa-bdac-332019bf83d0",
   "metadata": {},
   "source": [
    "**Iteratory, które kończą swoje działanie dla najkrótszej przekazanej sekwencji**\n",
    "\n",
    "Pełna lista w dokumentacji, tutaj przykłady dla wybranych z nich."
   ]
  },
  {
   "cell_type": "code",
   "execution_count": 120,
   "id": "b29ace63-8450-49fa-8211-3ddfa37346dc",
   "metadata": {},
   "outputs": [
    {
     "name": "stdout",
     "output_type": "stream",
     "text": [
      "[1, 3, 6, 10, 15]\n",
      "['A', 'AB', 'ABC']\n",
      "[1, 3, 15, 105]\n"
     ]
    }
   ],
   "source": [
    "# accumulate(p, [func])\n",
    "# wykonuje dodawanie akumulacyjne elementów (domyślnie), ale może przyjąć również\n",
    "# opcjonalny argument w postaci funkcji\n",
    "from operator import mul\n",
    "\n",
    "print(list(itertools.accumulate(range(1, 6))))\n",
    "\n",
    "print(list(itertools.accumulate(['A', 'B', 'C'])))\n",
    "\n",
    "print(list(itertools.accumulate([1, 3, 5, 7], mul)))"
   ]
  },
  {
   "cell_type": "code",
   "execution_count": 127,
   "id": "9fc5200e-285a-4eaf-b2ca-6ddaf953abf7",
   "metadata": {},
   "outputs": [
    {
     "name": "stdout",
     "output_type": "stream",
     "text": [
      "(1, 2, 3)\n",
      "(4, 5, 6)\n",
      "(7, 8, 9)\n",
      "(10, 11, 12)\n",
      "('A', 'b', 'r')\n",
      "('a', 'c', 'a')\n",
      "('d', 'a', 'b')\n",
      "('r', 'a', ' ')\n",
      "('t', 'o', ' ')\n",
      "('c', 'z', 'a')\n",
      "('r', 'y', ' ')\n",
      "('i', ' ', 'm')\n",
      "('a', 'g', 'i')\n",
      "('a',)\n"
     ]
    }
   ],
   "source": [
    "# batched(p, n)\n",
    "# tnie podaną sekwencję na sekwencje o długości n\n",
    "\n",
    "nums = list(range(1, 13))\n",
    "\n",
    "for batch in itertools.batched(nums, 3):\n",
    "    print(batch)\n",
    "\n",
    "for batch in itertools.batched('Abracadabra to czary i magia', 3):\n",
    "    print(batch)"
   ]
  },
  {
   "cell_type": "code",
   "execution_count": 184,
   "id": "615a4113-d9f0-4f0e-b294-1ae15891ba5f",
   "metadata": {},
   "outputs": [
    {
     "data": {
      "text/plain": [
       "[6, 15, 24, 33]"
      ]
     },
     "execution_count": 184,
     "metadata": {},
     "output_type": "execute_result"
    }
   ],
   "source": [
    "# starmap(func, seq)\n",
    "# jest to dość przydatna funkcja, która pozwala na przekazanie innej funkcji do\n",
    "# wywołania oraz krotek argumentów dla każdego kolejnego wywołania\n",
    "# argumenty są wypakowywane do wywołania funkcji za pomocą symbolu * (rozpakowanie sekwencji)\n",
    "\n",
    "# tu można zobaczyc implementację, aby lepiej to zrozumieć\n",
    "# https://docs.python.org/3/library/itertools.html#itertools.starmap\n",
    "\n",
    "nums = list(range(1, 13))\n",
    "# paczki po 3 liczby\n",
    "paczki = itertools.batched(nums, 3)\n",
    "\n",
    "def sumuj(*liczby):\n",
    "    return sum(liczby)\n",
    "\n",
    "# sumujemy po 3 kolejne liczby\n",
    "# print(list(paczki))\n",
    "list(itertools.starmap(sumuj, paczki))\n",
    "# sumuj *(1, 2, 3) -> sumuj(1, 2, 3)\n",
    "# kwargs = {'x': 1, 'y': 2}\n",
    "# załóżmy, że sumuj to sumuj(x=0, y=0)\n",
    "# starmap(sumuj, kwargs) -> **kwargs - > sumuj(x=1, y=1)"
   ]
  },
  {
   "cell_type": "code",
   "execution_count": 157,
   "id": "f7b31a39-13de-47b6-9ea0-fbe855529f58",
   "metadata": {},
   "outputs": [
    {
     "name": "stdout",
     "output_type": "stream",
     "text": [
      "[('A', 1), ('B', 2), ('C', 3), ('D', None), ('E', None), ('F', None)]\n",
      "[('A', 1), ('B', 2), ('C', 3), ('D', '-'), ('E', '-'), ('F', '-')]\n",
      "[('A', 1), ('B', 2), ('C', 3), ('D', 0), ('E', 0), ('F', 0)]\n"
     ]
    }
   ],
   "source": [
    "# zip_longest(p, q, ..., fillvalue)\n",
    "# podobna do działania wbudowanej funkcji zip, ale działa dla sekwencji o różnej\n",
    "# długości\n",
    "\n",
    "print(list(itertools.zip_longest('ABCDEF', [1,2,3])))\n",
    "print(list(itertools.zip_longest('ABCDEF', [1,2,3], fillvalue='-')))\n",
    "print(list(itertools.zip_longest('ABCDEF', [1,2,3], fillvalue=0)))"
   ]
  },
  {
   "cell_type": "code",
   "execution_count": 23,
   "id": "f525a69a-100f-43f6-a1be-a8f9b9de9006",
   "metadata": {},
   "outputs": [
    {
     "data": {
      "text/plain": [
       "[('A', 0), ('B', 1)]"
      ]
     },
     "execution_count": 23,
     "metadata": {},
     "output_type": "execute_result"
    }
   ],
   "source": [
    "list(zip('ABC', range(2)))"
   ]
  },
  {
   "cell_type": "markdown",
   "id": "f355f5b4-e330-405b-994e-c644b70bf990",
   "metadata": {},
   "source": [
    "**Iteratory związane z kombinatoryką**"
   ]
  },
  {
   "cell_type": "code",
   "execution_count": 187,
   "id": "d17e836b-3dab-4718-b58d-97462c13932a",
   "metadata": {},
   "outputs": [
    {
     "name": "stdout",
     "output_type": "stream",
     "text": [
      "[(1,), (2,), (3,)]\n",
      "[(1, 1), (1, 2), (1, 3), (2, 1), (2, 2), (2, 3), (3, 1), (3, 2), (3, 3)]\n",
      "[(1, 1), (1, 2), (1, 3), (2, 1), (2, 2), (2, 3), (3, 1), (3, 2), (3, 3)]\n",
      "[('!', '!'), ('!', '@'), ('!', '#'), ('!', '$'), ('@', '!'), ('@', '@'), ('@', '#'), ('@', '$'), ('#', '!'), ('#', '@'), ('#', '#'), ('#', '$'), ('$', '!'), ('$', '@'), ('$', '#'), ('$', '$')]\n"
     ]
    }
   ],
   "source": [
    "# product(p, q, ..., [repeat=1])\n",
    "# zwraca iloczyn kartezjański elementów, tak jakbyśmy dla każdej sekwencji\n",
    "# tworzyli kolejną zagnieżdżoną pętle for\n",
    "\n",
    "print(list(itertools.product([1,2,3])))\n",
    "print(list(itertools.product([1,2,3], repeat=2)))\n",
    "print(list(itertools.product([1,2,3],[1,2,3])))\n",
    "\n",
    "print(list(itertools.product('!@#$', repeat=2)))"
   ]
  },
  {
   "cell_type": "code",
   "execution_count": 190,
   "id": "67b26574-e748-441d-8f18-e9f7f625feae",
   "metadata": {},
   "outputs": [
    {
     "name": "stdout",
     "output_type": "stream",
     "text": [
      "[('A', 'B', 'C'), ('A', 'C', 'B'), ('B', 'A', 'C'), ('B', 'C', 'A'), ('C', 'A', 'B'), ('C', 'B', 'A')]\n",
      "[('A', 'B'), ('A', 'C'), ('B', 'A'), ('B', 'C'), ('C', 'A'), ('C', 'B')]\n"
     ]
    }
   ],
   "source": [
    "# permutations(p[,r])\n",
    "# zwraca permutacje długości r (krotki), w każdym możliwym porządku bez powtarzania elementów\n",
    "\n",
    "print(list(itertools.permutations('ABC')))\n",
    "print(list(itertools.permutations('ABC', 2)))"
   ]
  },
  {
   "cell_type": "code",
   "execution_count": 191,
   "id": "ea43b1ec-131c-4308-975e-8a9b543cfbaf",
   "metadata": {},
   "outputs": [
    {
     "name": "stdout",
     "output_type": "stream",
     "text": [
      "[('A', 'B'), ('A', 'C'), ('B', 'C')]\n"
     ]
    },
    {
     "data": {
      "text/plain": [
       "[(3, 4), (3, 5), (3, 6), (4, 5), (4, 6), (5, 6)]"
      ]
     },
     "execution_count": 191,
     "metadata": {},
     "output_type": "execute_result"
    }
   ],
   "source": [
    "# combinations(p, r)\n",
    "# zwraca krotki długości r, w porządku posortowanym bez powtórzeń elementów\n",
    "\n",
    "print(list(itertools.combinations('ABC', 2)))\n",
    "list(itertools.combinations([3, 4, 5, 6], 2))"
   ]
  },
  {
   "cell_type": "code",
   "execution_count": 192,
   "id": "58d75ee0-cddc-4a80-90ba-66ccb6686620",
   "metadata": {},
   "outputs": [
    {
     "name": "stdout",
     "output_type": "stream",
     "text": [
      "[('A', 'A'), ('A', 'B'), ('A', 'C'), ('B', 'B'), ('B', 'C'), ('C', 'C')]\n"
     ]
    },
    {
     "data": {
      "text/plain": [
       "[(3, 3),\n",
       " (3, 4),\n",
       " (3, 5),\n",
       " (3, 6),\n",
       " (4, 4),\n",
       " (4, 5),\n",
       " (4, 6),\n",
       " (5, 5),\n",
       " (5, 6),\n",
       " (6, 6)]"
      ]
     },
     "execution_count": 192,
     "metadata": {},
     "output_type": "execute_result"
    }
   ],
   "source": [
    "# combinations_with_replacement(p, r)\n",
    "# to co wyżej ale kombinacje z powtórzeniami\n",
    "\n",
    "print(list(itertools.combinations_with_replacement('ABC', 2)))\n",
    "list(itertools.combinations_with_replacement([3, 4, 5, 6], 2))"
   ]
  },
  {
   "cell_type": "markdown",
   "id": "81e42755-7b16-42f0-8dd6-8ad3e4bee034",
   "metadata": {},
   "source": [
    "## Zadania\n",
    "\n",
    "1. Wykorzystując funkcję `reduce` napisz funkcję anonimową, która będzie zliczała ilość samogłosek w podanym jej jako argument tekście. Dla testów możesz przypisać tę lambdę do zmiennej.\n",
    "\n",
    "2. Wykorzystując funkcję `sorted` oraz lambdę posortuj poniższe krotki po wartości punktowej (należy wyciągnąć ilość punktów z tego tekstu ('13 pkt' -> 13) w każdej z nich.\n",
    "\n",
    "```python\n",
    "[('Adam', 'Nowak', '13 pkt'), ('Anna','Górka', '15 pkt'), ('Wojtek', 'Bonk', '8 pkt')]\n",
    "```\n",
    "\n",
    "3. Wykorzystując lambdę, funkcję `reduce` oraz operator `mul` z modułu `operators` oblicz iloczyn pierwszych 10 liczb ciągu Fibonacciego (możesz wykorzystać jego generowanie z przykładu w labie) zkładając, że pierwszy element to 1.\n",
    "\n",
    "4. Napisz funkcję, która wykorzysta wbudowaną funkcję `itertools.cycle` do zwracania dnia tygodnia za `n` dni przyjmując, że lista dni jest zdefiniowana wewnątrz tej funkcji, a jako argument przekazujemy aktualny dzień tygodnia, od którego to odliczanie się zacznie oraz liczbę dni do przodu, którego nazwę ma zwrócić.\n",
    "Np. jaki_dzien('wtorek', 3) zwróci wartość 'piątek'.\n",
    "\n",
    "5. Wykorzystaj funkcję `itertools.permutations` dla ciągu 'ABCD' i r=2, a następnie utwórz funkcję lambda, która zwróci te wartości nie w postaci krotek, ale łańcuchów znaków, np. zamiast ('A','C','B') będzie 'ACB'.\n",
    "\n",
    "6. Wykorzystując funkjce z modułu itertools związane z kombinatoryką rozwiąż poniższe zadanie. Masz do dyspozycji 4 banknoty po 20 zł, 3 banknoty po 10 zł, dwa banknoty po 50 zł oraz dwie monety po 5 zł. Ile jest możliwych kombinacji rozmienienia banknotu 100 zł?\n",
    "\n",
    "7. Wykorzystaj funkcję `starmap` do wywołania funkcji wbudowanej `format()` i przygotuj listę argumentów [wartośc, format]. Wypisz wynik jej działania."
   ]
  }
 ],
 "metadata": {
  "kernelspec": {
   "display_name": "Python 3 (ipykernel)",
   "language": "python",
   "name": "python3"
  },
  "language_info": {
   "codemirror_mode": {
    "name": "ipython",
    "version": 3
   },
   "file_extension": ".py",
   "mimetype": "text/x-python",
   "name": "python",
   "nbconvert_exporter": "python",
   "pygments_lexer": "ipython3",
   "version": "3.12.7"
  }
 },
 "nbformat": 4,
 "nbformat_minor": 5
}
