{
 "cells": [
  {
   "cell_type": "markdown",
   "id": "5ced8b47-9b58-4031-b850-38f4c270076c",
   "metadata": {},
   "source": [
    "# Moduł concurrent.futures"
   ]
  },
  {
   "cell_type": "markdown",
   "id": "96cebb75-b6f8-4f39-8b03-6bdb241f6c10",
   "metadata": {},
   "source": [
    "## Co to jest?\n",
    "**Wysokopoziomowy interfejs do pracy z asynchronicznym wykonywaniem zadań.**\n",
    "\n",
    "Umożliwia łatwe uruchamianie funkcji w osobnych wątkach (ThreadPoolExecutor) lub procesach (ProcessPoolExecutor)."
   ]
  },
  {
   "cell_type": "markdown",
   "id": "c2354427-de61-4b8d-9f71-9a857b1c05c0",
   "metadata": {},
   "source": [
    "## Główne klasy:\n",
    "**ThreadPoolExecutor – używa puli wątków (threads) w jednym procesie.**\n",
    "\n",
    "**ProcessPoolExecutor – używa puli procesów (multiprocessing).**"
   ]
  },
  {
   "cell_type": "markdown",
   "id": "3177e92e-8a89-41d4-844a-8a2f12e4d13f",
   "metadata": {},
   "source": [
    "## Jak działa?\n",
    "Tworzysz executor z określoną liczbą workerów (wątków/procesów).\n",
    "\n",
    "Przesyłasz zadania (funkcje + argumenty) do executor’a.\n",
    "\n",
    "Zadania są wykonywane równolegle/asynchronicznie.\n",
    "\n",
    "Możesz pobrać wyniki za pomocą obiektów Future lub executor.map()."
   ]
  },
  {
   "cell_type": "markdown",
   "id": "e4431ca5-af85-4b21-8ee5-5653a374cf71",
   "metadata": {},
   "source": [
    "## Podstawowe metody:\n",
    "executor.submit(fn, *args, **kwargs) – uruchamia funkcję asynchronicznie, zwraca Future.\n",
    "\n",
    "executor.map(fn, iterable) – mapuje funkcję na iterowalne dane, zwraca iterator wyników, działa podobnie do wbudowanego map, ale równolegle.\n",
    "\n",
    "future.result() – pobiera wynik wykonania zadania (blokuje, aż wynik będzie gotowy)."
   ]
  },
  {
   "cell_type": "markdown",
   "id": "711b690b-e790-441d-8d65-f4e85c623251",
   "metadata": {},
   "source": [
    "### Przykład"
   ]
  },
  {
   "cell_type": "code",
   "execution_count": 2,
   "id": "716b1fd0-6da9-4bab-8533-0493f06e3760",
   "metadata": {},
   "outputs": [
    {
     "name": "stdout",
     "output_type": "stream",
     "text": [
      "1\n",
      "4\n",
      "9\n",
      "16\n"
     ]
    }
   ],
   "source": [
    "from concurrent.futures import ThreadPoolExecutor\n",
    "\n",
    "def f(x):\n",
    "    return x * x\n",
    "\n",
    "with ThreadPoolExecutor(max_workers=4) as executor:\n",
    "    results = executor.map(f, [1, 2, 3, 4])\n",
    "    for r in results:\n",
    "        print(r)"
   ]
  },
  {
   "cell_type": "markdown",
   "id": "0772a52d-181d-4cf6-8920-23774a64cceb",
   "metadata": {},
   "source": [
    "# Moduł multiprocessing"
   ]
  },
  {
   "cell_type": "markdown",
   "id": "b1163418-5b58-4f44-a56e-6b5f1d39728c",
   "metadata": {},
   "source": [
    "## Co to jest?\n",
    "Niskopoziomowy moduł do tworzenia procesów w Pythonie.\n",
    "\n",
    "Pozwala na prawdziwą wieloprocesowość (omija GIL), co jest ważne przy zadaniach CPU-bound.\n",
    "\n",
    "Oferuje obiekty Process, Pool i mechanizmy komunikacji między procesami (kolejki, pipy, zmienne współdzielone)."
   ]
  },
  {
   "cell_type": "markdown",
   "id": "ede20e8d-f728-41dd-a98c-e151db31169b",
   "metadata": {},
   "source": [
    "## Główne komponenty:\n",
    "Process – reprezentuje proces wykonujący daną funkcję.\n",
    "\n",
    "Pool – pula procesów, zarządza grupą procesów i rozdziela zadania.\n",
    "\n",
    "Queue, Pipe – mechanizmy komunikacji międzyprocesowej."
   ]
  },
  {
   "cell_type": "markdown",
   "id": "772d3c42-0a25-41bc-a1f2-46872f6c4fbf",
   "metadata": {},
   "source": [
    "## Jak działa?\n",
    "Tworzysz nowy proces, przekazując funkcję i argumenty.\n",
    "\n",
    "Proces uruchamia się niezależnie od procesu macierzystego.\n",
    "\n",
    "Można synchronizować, komunikować się i czekać na zakończenie procesów."
   ]
  },
  {
   "cell_type": "markdown",
   "id": "838e3392-ff39-4840-b00c-d5dd6fa7f2c5",
   "metadata": {},
   "source": [
    "## Podstawowe metody:\n",
    "Process(target=fn, args=()) – tworzy nowy proces.\n",
    "\n",
    "p.start() – uruchamia proces.\n",
    "\n",
    "p.join() – czeka na zakończenie procesu.\n",
    "\n",
    "Pool.map(fn, iterable) – rozdziela zadania na wiele procesów, działa podobnie do map()."
   ]
  },
  {
   "cell_type": "code",
   "execution_count": null,
   "id": "5a1bd194-47c1-4a0f-9d22-4e5e5539d7df",
   "metadata": {},
   "outputs": [],
   "source": [
    "from multiprocessing import Pool\n",
    "\n",
    "def f(x):\n",
    "    return x * x\n",
    "\n",
    "if __name__ == '__main__':\n",
    "    with Pool(4) as p:\n",
    "        results = p.map(f, [1, 2, 3, 4])\n",
    "        print(results)"
   ]
  },
  {
   "cell_type": "code",
   "execution_count": null,
   "id": "d3c7847e-989a-4036-a860-a6ad3adc2bf9",
   "metadata": {},
   "outputs": [],
   "source": []
  }
 ],
 "metadata": {
  "kernelspec": {
   "display_name": "Python 3 (ipykernel)",
   "language": "python",
   "name": "python3"
  },
  "language_info": {
   "codemirror_mode": {
    "name": "ipython",
    "version": 3
   },
   "file_extension": ".py",
   "mimetype": "text/x-python",
   "name": "python",
   "nbconvert_exporter": "python",
   "pygments_lexer": "ipython3",
   "version": "3.12.7"
  }
 },
 "nbformat": 4,
 "nbformat_minor": 5
}
